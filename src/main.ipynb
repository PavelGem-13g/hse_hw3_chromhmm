{
  "cells": [
    {
      "cell_type": "markdown",
      "metadata": {
        "id": "Wf813Dhm1X8a"
      },
      "source": [
        "# Устанавливаем java и ChromHmm"
      ]
    },
    {
      "cell_type": "code",
      "execution_count": 4,
      "metadata": {
        "colab": {
          "base_uri": "https://localhost:8080/"
        },
        "id": "4bwW50kg1SX-",
        "outputId": "9f2ab027-7dd4-4566-9789-bf33fe1a6bd6"
      },
      "outputs": [
        {
          "name": "stdout",
          "output_type": "stream",
          "text": [
            "  % Total    % Received % Xferd  Average Speed   Time    Time     Time  Current\n",
            "                                 Dload  Upload   Total   Spent    Left  Speed\n",
            "\r  0     0    0     0    0     0      0      0 --:--:-- --:--:-- --:--:--     0\r100   155  100   155    0     0    811      0 --:--:-- --:--:-- --:--:--   815\n",
            "fix-colab-gpu.sh: line 5: nvcc: command not found\n"
          ]
        }
      ],
      "source": [
        "!curl -O https://raw.githubusercontent.com/deepjavalibrary/d2l-java/master/tools/fix-colab-gpu.sh && bash fix-colab-gpu.sh"
      ]
    },
    {
      "cell_type": "code",
      "execution_count": 5,
      "metadata": {
        "colab": {
          "base_uri": "https://localhost:8080/"
        },
        "id": "qOhEDEME1Z0C",
        "outputId": "1d773f22-db94-4e50-8535-17485ef947d1"
      },
      "outputs": [
        {
          "name": "stdout",
          "output_type": "stream",
          "text": [
            "  % Total    % Received % Xferd  Average Speed   Time    Time     Time  Current\n",
            "                                 Dload  Upload   Total   Spent    Left  Speed\n",
            "100   520  100   520    0     0   2828      0 --:--:-- --:--:-- --:--:--  2826\n",
            "Update environment...\n",
            "Install Java...\n",
            "Install Jupyter java kernel...\n"
          ]
        }
      ],
      "source": [
        "!curl -O https://raw.githubusercontent.com/deepjavalibrary/d2l-java/master/tools/colab_build.sh && bash colab_build.sh"
      ]
    },
    {
      "cell_type": "code",
      "execution_count": 6,
      "metadata": {
        "colab": {
          "base_uri": "https://localhost:8080/"
        },
        "id": "jDQ7bCja1a_B",
        "outputId": "79685351-4c98-4451-cacd-bfc671dfe748"
      },
      "outputs": [
        {
          "name": "stdout",
          "output_type": "stream",
          "text": [
            "jdk.jshell@11.0.26\n"
          ]
        }
      ],
      "source": [
        "!java --list-modules | grep \"jdk.jshell\"\n"
      ]
    },
    {
      "cell_type": "code",
      "execution_count": 7,
      "metadata": {
        "colab": {
          "base_uri": "https://localhost:8080/"
        },
        "id": "zyuOjh0u1c_K",
        "outputId": "a0a5c06e-5d90-4bbe-8602-3a8836edc50a"
      },
      "outputs": [
        {
          "name": "stdout",
          "output_type": "stream",
          "text": [
            "--2025-04-17 13:29:28--  http://compbio.mit.edu/ChromHMM/ChromHMM.zip\n",
            "Resolving compbio.mit.edu (compbio.mit.edu)... 128.52.131.233\n",
            "Connecting to compbio.mit.edu (compbio.mit.edu)|128.52.131.233|:80... connected.\n",
            "HTTP request sent, awaiting response... 301 Moved Permanently\n",
            "Location: https://compbio.mit.edu/ChromHMM/ChromHMM.zip [following]\n",
            "--2025-04-17 13:29:29--  https://compbio.mit.edu/ChromHMM/ChromHMM.zip\n",
            "Connecting to compbio.mit.edu (compbio.mit.edu)|128.52.131.233|:443... connected.\n",
            "HTTP request sent, awaiting response... 200 OK\n",
            "Length: 48980485 (47M) [application/zip]\n",
            "Saving to: ‘ChromHMM.zip’\n",
            "\n",
            "ChromHMM.zip        100%[===================>]  46.71M  15.1MB/s    in 3.1s    \n",
            "\n",
            "2025-04-17 13:29:32 (15.1 MB/s) - ‘ChromHMM.zip’ saved [48980485/48980485]\n",
            "\n"
          ]
        }
      ],
      "source": [
        "! wget http://compbio.mit.edu/ChromHMM/ChromHMM.zip"
      ]
    },
    {
      "cell_type": "code",
      "execution_count": 8,
      "metadata": {
        "colab": {
          "base_uri": "https://localhost:8080/"
        },
        "id": "5gRZNM6N1ecz",
        "outputId": "7c321f28-b069-4374-87d1-aec6e9403a5a"
      },
      "outputs": [
        {
          "name": "stdout",
          "output_type": "stream",
          "text": [
            "Archive:  /content/ChromHMM.zip\n",
            "   creating: ChromHMM/ANCHORFILES/\n",
            "   creating: ChromHMM/ANCHORFILES/ce10/\n",
            "  inflating: ChromHMM/ANCHORFILES/ce10/RefSeqTES.ce10.txt.gz  \n",
            "  inflating: ChromHMM/ANCHORFILES/ce10/RefSeqTSS.ce10.txt.gz  \n",
            "   creating: ChromHMM/ANCHORFILES/ce11/\n",
            "  inflating: ChromHMM/ANCHORFILES/ce11/RefSeqTES.ce11.txt.gz  \n",
            "  inflating: ChromHMM/ANCHORFILES/ce11/RefSeqTSS.ce11.txt.gz  \n",
            "   creating: ChromHMM/ANCHORFILES/ce6/\n",
            "  inflating: ChromHMM/ANCHORFILES/ce6/RefSeqTES.ce6.txt.gz  \n",
            "  inflating: ChromHMM/ANCHORFILES/ce6/RefSeqTSS.ce6.txt.gz  \n",
            "   creating: ChromHMM/ANCHORFILES/danRer10/\n",
            "  inflating: ChromHMM/ANCHORFILES/danRer10/RefSeqTES.danRer10.txt.gz  \n",
            "  inflating: ChromHMM/ANCHORFILES/danRer10/RefSeqTSS.danRer10.txt.gz  \n",
            "   creating: ChromHMM/ANCHORFILES/danRer11/\n",
            "  inflating: ChromHMM/ANCHORFILES/danRer11/RefSeqTES.danRer11.txt.gz  \n",
            "  inflating: ChromHMM/ANCHORFILES/danRer11/RefSeqTSS.danRer11.txt.gz  \n",
            "   creating: ChromHMM/ANCHORFILES/danRer7/\n",
            "  inflating: ChromHMM/ANCHORFILES/danRer7/RefSeqTES.danRer7.txt.gz  \n",
            "  inflating: ChromHMM/ANCHORFILES/danRer7/RefSeqTSS.danRer7.txt.gz  \n",
            "   creating: ChromHMM/ANCHORFILES/dm3/\n",
            "  inflating: ChromHMM/ANCHORFILES/dm3/RefSeqTES.dm3.txt.gz  \n",
            "  inflating: ChromHMM/ANCHORFILES/dm3/RefSeqTSS.dm3.txt.gz  \n",
            "   creating: ChromHMM/ANCHORFILES/dm6/\n",
            "  inflating: ChromHMM/ANCHORFILES/dm6/RefSeqTES.dm6.txt.gz  \n",
            "  inflating: ChromHMM/ANCHORFILES/dm6/RefSeqTSS.dm6.txt.gz  \n",
            "   creating: ChromHMM/ANCHORFILES/hg18/\n",
            "  inflating: ChromHMM/ANCHORFILES/hg18/RefSeqTES.hg18.txt.gz  \n",
            "  inflating: ChromHMM/ANCHORFILES/hg18/RefSeqTSS.hg18.txt.gz  \n",
            "   creating: ChromHMM/ANCHORFILES/hg19/\n",
            "  inflating: ChromHMM/ANCHORFILES/hg19/RefSeqTES.hg19.txt.gz  \n",
            "  inflating: ChromHMM/ANCHORFILES/hg19/RefSeqTSS.hg19.txt.gz  \n",
            "   creating: ChromHMM/ANCHORFILES/hg38/\n",
            "  inflating: ChromHMM/ANCHORFILES/hg38/RefSeqTES.hg38.txt.gz  \n",
            "  inflating: ChromHMM/ANCHORFILES/hg38/RefSeqTSS.hg38.txt.gz  \n",
            "   creating: ChromHMM/ANCHORFILES/hs1/\n",
            "  inflating: ChromHMM/ANCHORFILES/hs1/RefSeqTES.hs1.txt.gz  \n",
            "  inflating: ChromHMM/ANCHORFILES/hs1/RefSeqTSS.hs1.txt.gz  \n",
            "   creating: ChromHMM/ANCHORFILES/mm10/\n",
            "  inflating: ChromHMM/ANCHORFILES/mm10/RefSeqTES.mm10.txt.gz  \n",
            "  inflating: ChromHMM/ANCHORFILES/mm10/RefSeqTSS.mm10.txt.gz  \n",
            "   creating: ChromHMM/ANCHORFILES/mm39/\n",
            "  inflating: ChromHMM/ANCHORFILES/mm39/RefSeqTES.mm39.txt.gz  \n",
            "  inflating: ChromHMM/ANCHORFILES/mm39/RefSeqTSS.mm39.txt.gz  \n",
            "   creating: ChromHMM/ANCHORFILES/mm9/\n",
            "  inflating: ChromHMM/ANCHORFILES/mm9/RefSeqTES.mm9.txt.gz  \n",
            "  inflating: ChromHMM/ANCHORFILES/mm9/RefSeqTSS.mm9.txt.gz  \n",
            "   creating: ChromHMM/ANCHORFILES/rn5/\n",
            "  inflating: ChromHMM/ANCHORFILES/rn5/RefSeqTES.rn5.txt.gz  \n",
            "  inflating: ChromHMM/ANCHORFILES/rn5/RefSeqTSS.rn5.txt.gz  \n",
            "   creating: ChromHMM/ANCHORFILES/rn6/\n",
            "  inflating: ChromHMM/ANCHORFILES/rn6/RefSeqTES.rn6.txt.gz  \n",
            "  inflating: ChromHMM/ANCHORFILES/rn6/RefSeqTSS.rn6.txt.gz  \n",
            "  inflating: ChromHMM/ChromHMM.jar   \n",
            "  inflating: ChromHMM/ChromHMM_manual.pdf  \n",
            "   creating: ChromHMM/CHROMSIZES/\n",
            "  inflating: ChromHMM/CHROMSIZES/ce10.txt  \n",
            "  inflating: ChromHMM/CHROMSIZES/ce11.txt  \n",
            "  inflating: ChromHMM/CHROMSIZES/ce6.txt  \n",
            "  inflating: ChromHMM/CHROMSIZES/danRer10.txt  \n",
            "  inflating: ChromHMM/CHROMSIZES/danRer11.txt  \n",
            "  inflating: ChromHMM/CHROMSIZES/danRer7.txt  \n",
            "  inflating: ChromHMM/CHROMSIZES/dm3.txt  \n",
            "  inflating: ChromHMM/CHROMSIZES/dm6.txt  \n",
            "  inflating: ChromHMM/CHROMSIZES/hg18.txt  \n",
            "  inflating: ChromHMM/CHROMSIZES/hg19.txt  \n",
            "  inflating: ChromHMM/CHROMSIZES/hg38.txt  \n",
            "  inflating: ChromHMM/CHROMSIZES/hs1.txt  \n",
            "  inflating: ChromHMM/CHROMSIZES/mm10.txt  \n",
            "  inflating: ChromHMM/CHROMSIZES/mm39.txt  \n",
            "  inflating: ChromHMM/CHROMSIZES/mm9.txt  \n",
            "  inflating: ChromHMM/CHROMSIZES/rn5.txt  \n",
            "  inflating: ChromHMM/CHROMSIZES/rn6.txt  \n",
            "   creating: ChromHMM/COORDS/\n",
            "   creating: ChromHMM/COORDS/ce10/\n",
            "  inflating: ChromHMM/COORDS/ce10/RefSeqExon.ce10.bed.gz  \n",
            "  inflating: ChromHMM/COORDS/ce10/RefSeqGene.ce10.bed.gz  \n",
            "  inflating: ChromHMM/COORDS/ce10/RefSeqTES.ce10.bed.gz  \n",
            "  inflating: ChromHMM/COORDS/ce10/RefSeqTSS.ce10.bed.gz  \n",
            "  inflating: ChromHMM/COORDS/ce10/RefSeqTSS2kb.ce10.bed.gz  \n",
            "   creating: ChromHMM/COORDS/ce11/\n",
            "  inflating: ChromHMM/COORDS/ce11/RefSeqExon.ce11.bed.gz  \n",
            "  inflating: ChromHMM/COORDS/ce11/RefSeqGene.ce11.bed.gz  \n",
            "  inflating: ChromHMM/COORDS/ce11/RefSeqTES.ce11.bed.gz  \n",
            "  inflating: ChromHMM/COORDS/ce11/RefSeqTSS.ce11.bed.gz  \n",
            "  inflating: ChromHMM/COORDS/ce11/RefSeqTSS2kb.ce11.bed.gz  \n",
            "   creating: ChromHMM/COORDS/ce6/\n",
            "  inflating: ChromHMM/COORDS/ce6/RefSeqExon.ce6.bed.gz  \n",
            "  inflating: ChromHMM/COORDS/ce6/RefSeqGene.ce6.bed.gz  \n",
            "  inflating: ChromHMM/COORDS/ce6/RefSeqTES.ce6.bed.gz  \n",
            "  inflating: ChromHMM/COORDS/ce6/RefSeqTSS.ce6.bed.gz  \n",
            "  inflating: ChromHMM/COORDS/ce6/RefSeqTSS2kb.ce6.bed.gz  \n",
            "   creating: ChromHMM/COORDS/danRer10/\n",
            "  inflating: ChromHMM/COORDS/danRer10/RefSeqExon.danRer10.bed.gz  \n",
            "  inflating: ChromHMM/COORDS/danRer10/RefSeqGene.danRer10.bed.gz  \n",
            "  inflating: ChromHMM/COORDS/danRer10/RefSeqTES.danRer10.bed.gz  \n",
            "  inflating: ChromHMM/COORDS/danRer10/RefSeqTSS.danRer10.bed.gz  \n",
            "  inflating: ChromHMM/COORDS/danRer10/RefSeqTSS2kb.danRer10.bed.gz  \n",
            "   creating: ChromHMM/COORDS/danRer11/\n",
            "  inflating: ChromHMM/COORDS/danRer11/RefSeqExon.danRer11.bed.gz  \n",
            "  inflating: ChromHMM/COORDS/danRer11/RefSeqGene.danRer11.bed.gz  \n",
            "  inflating: ChromHMM/COORDS/danRer11/RefSeqTES.danRer11.bed.gz  \n",
            "  inflating: ChromHMM/COORDS/danRer11/RefSeqTSS.danRer11.bed.gz  \n",
            "  inflating: ChromHMM/COORDS/danRer11/RefSeqTSS2kb.danRer11.bed.gz  \n",
            "   creating: ChromHMM/COORDS/danRer7/\n",
            "  inflating: ChromHMM/COORDS/danRer7/RefSeqExon.danRer7.bed.gz  \n",
            "  inflating: ChromHMM/COORDS/danRer7/RefSeqGene.danRer7.bed.gz  \n",
            "  inflating: ChromHMM/COORDS/danRer7/RefSeqTES.danRer7.bed.gz  \n",
            "  inflating: ChromHMM/COORDS/danRer7/RefSeqTSS.danRer7.bed.gz  \n",
            "  inflating: ChromHMM/COORDS/danRer7/RefSeqTSS2kb.danRer7.bed.gz  \n",
            "   creating: ChromHMM/COORDS/dm3/\n",
            "  inflating: ChromHMM/COORDS/dm3/RefSeqExon.dm3.bed.gz  \n",
            "  inflating: ChromHMM/COORDS/dm3/RefSeqGene.dm3.bed.gz  \n",
            "  inflating: ChromHMM/COORDS/dm3/RefSeqTES.dm3.bed.gz  \n",
            "  inflating: ChromHMM/COORDS/dm3/RefSeqTSS.dm3.bed.gz  \n",
            "  inflating: ChromHMM/COORDS/dm3/RefSeqTSS2kb.dm3.bed.gz  \n",
            "   creating: ChromHMM/COORDS/dm6/\n",
            "  inflating: ChromHMM/COORDS/dm6/RefSeqExon.dm6.bed.gz  \n",
            "  inflating: ChromHMM/COORDS/dm6/RefSeqGene.dm6.bed.gz  \n",
            "  inflating: ChromHMM/COORDS/dm6/RefSeqTES.dm6.bed.gz  \n",
            "  inflating: ChromHMM/COORDS/dm6/RefSeqTSS.dm6.bed.gz  \n",
            "  inflating: ChromHMM/COORDS/dm6/RefSeqTSS2kb.dm6.bed.gz  \n",
            "   creating: ChromHMM/COORDS/hg18/\n",
            "  inflating: ChromHMM/COORDS/hg18/CpGIsland.hg18.bed.gz  \n",
            " extracting: ChromHMM/COORDS/hg18/laminB1lads.hg18.bed.gz  \n",
            "  inflating: ChromHMM/COORDS/hg18/RefSeqExon.hg18.bed.gz  \n",
            "  inflating: ChromHMM/COORDS/hg18/RefSeqGene.hg18.bed.gz  \n",
            "  inflating: ChromHMM/COORDS/hg18/RefSeqTES.hg18.bed.gz  \n",
            "  inflating: ChromHMM/COORDS/hg18/RefSeqTSS.hg18.bed.gz  \n",
            "  inflating: ChromHMM/COORDS/hg18/RefSeqTSS2kb.hg18.bed.gz  \n",
            "   creating: ChromHMM/COORDS/hg19/\n",
            "  inflating: ChromHMM/COORDS/hg19/CpGIsland.hg19.bed.gz  \n",
            " extracting: ChromHMM/COORDS/hg19/laminB1lads.hg19.bed.gz  \n",
            "  inflating: ChromHMM/COORDS/hg19/RefSeqExon.hg19.bed.gz  \n",
            "  inflating: ChromHMM/COORDS/hg19/RefSeqGene.hg19.bed.gz  \n",
            "  inflating: ChromHMM/COORDS/hg19/RefSeqTES.hg19.bed.gz  \n",
            "  inflating: ChromHMM/COORDS/hg19/RefSeqTSS.hg19.bed.gz  \n",
            "  inflating: ChromHMM/COORDS/hg19/RefSeqTSS2kb.hg19.bed.gz  \n",
            "   creating: ChromHMM/COORDS/hg38/\n",
            "  inflating: ChromHMM/COORDS/hg38/CpGIsland.hg38.bed.gz  \n",
            "  inflating: ChromHMM/COORDS/hg38/RefSeqExon.hg38.bed.gz  \n",
            "  inflating: ChromHMM/COORDS/hg38/RefSeqGene.hg38.bed.gz  \n",
            "  inflating: ChromHMM/COORDS/hg38/RefSeqTES.hg38.bed.gz  \n",
            "  inflating: ChromHMM/COORDS/hg38/RefSeqTSS.hg38.bed.gz  \n",
            "  inflating: ChromHMM/COORDS/hg38/RefSeqTSS2kb.hg38.bed.gz  \n",
            "   creating: ChromHMM/COORDS/hs1/\n",
            "  inflating: ChromHMM/COORDS/hs1/CpGIsland.hs1.bed.gz  \n",
            "  inflating: ChromHMM/COORDS/hs1/RefSeqExon.hs1.bed.gz  \n",
            "  inflating: ChromHMM/COORDS/hs1/RefSeqGene.hs1.bed.gz  \n",
            "  inflating: ChromHMM/COORDS/hs1/RefSeqTES.hs1.bed.gz  \n",
            "  inflating: ChromHMM/COORDS/hs1/RefSeqTSS.hs1.bed.gz  \n",
            "  inflating: ChromHMM/COORDS/hs1/RefSeqTSS2kb.hs1.bed.gz  \n",
            "   creating: ChromHMM/COORDS/mm10/\n",
            "  inflating: ChromHMM/COORDS/mm10/CpGIsland.mm10.bed.gz  \n",
            "  inflating: ChromHMM/COORDS/mm10/RefSeqExon.mm10.bed.gz  \n",
            "  inflating: ChromHMM/COORDS/mm10/RefSeqGene.mm10.bed.gz  \n",
            "  inflating: ChromHMM/COORDS/mm10/RefSeqTES.mm10.bed.gz  \n",
            "  inflating: ChromHMM/COORDS/mm10/RefSeqTSS.mm10.bed.gz  \n",
            "  inflating: ChromHMM/COORDS/mm10/RefSeqTSS2kb.mm10.bed.gz  \n",
            "   creating: ChromHMM/COORDS/mm39/\n",
            "  inflating: ChromHMM/COORDS/mm39/CpGIsland.mm39.bed.gz  \n",
            "  inflating: ChromHMM/COORDS/mm39/RefSeqExon.mm39.bed.gz  \n",
            "  inflating: ChromHMM/COORDS/mm39/RefSeqGene.mm39.bed.gz  \n",
            "  inflating: ChromHMM/COORDS/mm39/RefSeqTES.mm39.bed.gz  \n",
            "  inflating: ChromHMM/COORDS/mm39/RefSeqTSS.mm39.bed.gz  \n",
            "  inflating: ChromHMM/COORDS/mm39/RefSeqTSS2kb.mm39.bed.gz  \n",
            "   creating: ChromHMM/COORDS/mm9/\n",
            "  inflating: ChromHMM/COORDS/mm9/CpGIsland.mm9.bed.gz  \n",
            "  inflating: ChromHMM/COORDS/mm9/RefSeqExon.mm9.bed.gz  \n",
            "  inflating: ChromHMM/COORDS/mm9/RefSeqGene.mm9.bed.gz  \n",
            "  inflating: ChromHMM/COORDS/mm9/RefSeqTES.mm9.bed.gz  \n",
            "  inflating: ChromHMM/COORDS/mm9/RefSeqTSS.mm9.bed.gz  \n",
            "  inflating: ChromHMM/COORDS/mm9/RefSeqTSS2kb.mm9.bed.gz  \n",
            "   creating: ChromHMM/COORDS/rn5/\n",
            "  inflating: ChromHMM/COORDS/rn5/CpGIsland.rn5.bed.gz  \n",
            "  inflating: ChromHMM/COORDS/rn5/RefSeqExon.rn5.bed.gz  \n",
            "  inflating: ChromHMM/COORDS/rn5/RefSeqGene.rn5.bed.gz  \n",
            "  inflating: ChromHMM/COORDS/rn5/RefSeqTES.rn5.bed.gz  \n",
            "  inflating: ChromHMM/COORDS/rn5/RefSeqTSS.rn5.bed.gz  \n",
            "  inflating: ChromHMM/COORDS/rn5/RefSeqTSS2kb.rn5.bed.gz  \n",
            "   creating: ChromHMM/COORDS/rn6/\n",
            "  inflating: ChromHMM/COORDS/rn6/CpGIsland.rn6.bed.gz  \n",
            "  inflating: ChromHMM/COORDS/rn6/RefSeqExon.rn6.bed.gz  \n",
            "  inflating: ChromHMM/COORDS/rn6/RefSeqGene.rn6.bed.gz  \n",
            "  inflating: ChromHMM/COORDS/rn6/RefSeqTES.rn6.bed.gz  \n",
            "  inflating: ChromHMM/COORDS/rn6/RefSeqTSS.rn6.bed.gz  \n",
            "  inflating: ChromHMM/COORDS/rn6/RefSeqTSS2kb.rn6.bed.gz  \n",
            "   creating: ChromHMM/SAMPLEDATA_HG18/\n",
            "  inflating: ChromHMM/SAMPLEDATA_HG18/GM12878_chr11_binary.txt.gz  \n",
            "  inflating: ChromHMM/SAMPLEDATA_HG18/K562_chr11_binary.txt.gz  \n",
            "   creating: ChromHMM/SRC/\n",
            "   creating: ChromHMM/SRC/edu/\n",
            "   creating: ChromHMM/SRC/edu/mit/\n",
            "   creating: ChromHMM/SRC/edu/mit/compbio/\n",
            "   creating: ChromHMM/SRC/edu/mit/compbio/ChromHMM/\n",
            "  inflating: ChromHMM/SRC/edu/mit/compbio/ChromHMM/BrowserOutput.java  \n",
            "  inflating: ChromHMM/SRC/edu/mit/compbio/ChromHMM/ChromHMM.java  \n",
            "  inflating: ChromHMM/SRC/edu/mit/compbio/ChromHMM/ConvertGeneTable.java  \n",
            "  inflating: ChromHMM/SRC/edu/mit/compbio/ChromHMM/NestedEliminateInitialize.java  \n",
            "  inflating: ChromHMM/SRC/edu/mit/compbio/ChromHMM/Preprocessing.java  \n",
            "  inflating: ChromHMM/SRC/edu/mit/compbio/ChromHMM/StateAnalysis.java  \n",
            "  inflating: ChromHMM/SRC/edu/mit/compbio/ChromHMM/Util.java  \n",
            "   creating: ChromHMM/SRC/org/\n",
            "   creating: ChromHMM/SRC/org/tc33/\n",
            "   creating: ChromHMM/SRC/org/tc33/jheatchart/\n",
            "  inflating: ChromHMM/SRC/org/tc33/jheatchart/HeatChart.java  \n",
            "  inflating: ChromHMM/versionlog.txt  \n"
          ]
        }
      ],
      "source": [
        "!unzip /content/ChromHMM.zip"
      ]
    },
    {
      "cell_type": "code",
      "execution_count": 1,
      "metadata": {
        "colab": {
          "base_uri": "https://localhost:8080/"
        },
        "id": "HXL8LhS514YQ",
        "outputId": "b5bfc17d-b7b5-404a-98ca-85ad45620dcb"
      },
      "outputs": [
        {
          "name": "stdout",
          "output_type": "stream",
          "text": [
            "--2025-04-17 08:22:24--  http://hgdownload.cse.ucsc.edu/goldenPath/hg19/encodeDCC/wgEncodeBroadHistone/wgEncodeBroadHistoneDnd41ControlStdAlnRep1.bam\n",
            "Resolving hgdownload.cse.ucsc.edu (hgdownload.cse.ucsc.edu)... 128.114.119.163\n",
            "Connecting to hgdownload.cse.ucsc.edu (hgdownload.cse.ucsc.edu)|128.114.119.163|:80... connected.\n",
            "HTTP request sent, awaiting response... 200 OK\n",
            "Length: 1650447405 (1.5G) [application/octet-stream]\n",
            "Saving to: ‘control.bam’\n",
            "\n",
            "control.bam         100%[===================>]   1.54G  30.8MB/s    in 46s     \n",
            "\n",
            "2025-04-17 08:23:11 (34.0 MB/s) - ‘control.bam’ saved [1650447405/1650447405]\n",
            "\n"
          ]
        }
      ],
      "source": [
        "! wget http://hgdownload.cse.ucsc.edu/goldenPath/hg19/encodeDCC/wgEncodeBroadHistone/wgEncodeBroadHistoneDnd41ControlStdAlnRep1.bam -O control.bam"
      ]
    },
    {
      "cell_type": "code",
      "execution_count": 3,
      "metadata": {
        "id": "wHI_eHQw1gEm"
      },
      "outputs": [],
      "source": [
        "marks = [\n",
        "    \"H4k20me1\",\n",
        "    \"Ctcf\",\n",
        "    \"Ezh239875\",\n",
        "    \"H2az\",\n",
        "    \"H3k04me1\",\n",
        "    \"H3k04me2\",\n",
        "    \"H3k04me3\",\n",
        "    \"H3k09ac\",\n",
        "    \"H3k27ac\",\n",
        "    \"H3k36me3\"\n",
        "]"
      ]
    },
    {
      "cell_type": "code",
      "execution_count": null,
      "metadata": {
        "id": "dehRvS4Myh80"
      },
      "outputs": [],
      "source": [
        "!cp control.bam ./input_data"
      ]
    },
    {
      "cell_type": "code",
      "execution_count": 4,
      "metadata": {
        "colab": {
          "base_uri": "https://localhost:8080/"
        },
        "id": "vLul3ELs1jdW",
        "outputId": "4a702407-7d64-4e87-db33-6d75c3e47996"
      },
      "outputs": [
        {
          "name": "stdout",
          "output_type": "stream",
          "text": [
            "Trying: http://hgdownload.cse.ucsc.edu/goldenPath/hg19/encodeDCC/wgEncodeBroadHistone/wgEncodeBroadHistoneDnd41H4k20me1AlnRep1.bam\n",
            "input_data/H4k20me1 100%[===================>]   1.40G  35.2MB/s    in 56s     \n",
            "Trying: http://hgdownload.cse.ucsc.edu/goldenPath/hg19/encodeDCC/wgEncodeBroadHistone/wgEncodeBroadHistoneDnd41CtcfAlnRep1.bam\n",
            "input_data/Ctcf_rep 100%[===================>]   1.22G  25.6MB/s    in 45s     \n",
            "Trying: http://hgdownload.cse.ucsc.edu/goldenPath/hg19/encodeDCC/wgEncodeBroadHistone/wgEncodeBroadHistoneDnd41Ezh239875AlnRep1.bam\n",
            "input_data/Ezh23987 100%[===================>] 788.18M  38.1MB/s    in 28s     \n",
            "Trying: http://hgdownload.cse.ucsc.edu/goldenPath/hg19/encodeDCC/wgEncodeBroadHistone/wgEncodeBroadHistoneDnd41H2azAlnRep1.bam\n",
            "input_data/H2az_rep 100%[===================>]   1.27G  32.8MB/s    in 51s     \n",
            "Trying: http://hgdownload.cse.ucsc.edu/goldenPath/hg19/encodeDCC/wgEncodeBroadHistone/wgEncodeBroadHistoneDnd41H3k04me1AlnRep1.bam\n",
            "input_data/H3k04me1 100%[===================>]   1.09G  24.7MB/s    in 38s     \n",
            "Trying: http://hgdownload.cse.ucsc.edu/goldenPath/hg19/encodeDCC/wgEncodeBroadHistone/wgEncodeBroadHistoneDnd41H3k04me2AlnRep1.bam\n",
            "input_data/H3k04me2 100%[===================>]   1.04G  26.8MB/s    in 39s     \n",
            "Trying: http://hgdownload.cse.ucsc.edu/goldenPath/hg19/encodeDCC/wgEncodeBroadHistone/wgEncodeBroadHistoneDnd41H3k04me3AlnRep1.bam\n",
            "input_data/H3k04me3 100%[===================>]   1.29G  25.7MB/s    in 40s     \n",
            "Trying: http://hgdownload.cse.ucsc.edu/goldenPath/hg19/encodeDCC/wgEncodeBroadHistone/wgEncodeBroadHistoneDnd41H3k09acAlnRep1.bam\n",
            "input_data/H3k09ac_ 100%[===================>]   1.14G  29.9MB/s    in 36s     \n",
            "Trying: http://hgdownload.cse.ucsc.edu/goldenPath/hg19/encodeDCC/wgEncodeBroadHistone/wgEncodeBroadHistoneDnd41H3k27acAlnRep1.bam\n",
            "input_data/H3k27ac_ 100%[===================>]   1.39G  22.9MB/s    in 61s     \n",
            "Trying: http://hgdownload.cse.ucsc.edu/goldenPath/hg19/encodeDCC/wgEncodeBroadHistone/wgEncodeBroadHistoneDnd41H3k36me3AlnRep1.bam\n",
            "input_data/H3k36me3 100%[===================>]   1.33G  23.9MB/s    in 46s     \n"
          ]
        }
      ],
      "source": [
        "base_url = \"http://hgdownload.cse.ucsc.edu/goldenPath/hg19/encodeDCC/wgEncodeBroadHistone/\"\n",
        "cell_line = \"Dnd41\"\n",
        "\n",
        "for mark in marks:\n",
        "    for rep in range(1, 2):  # максимум 3 реплики встречается в списке\n",
        "        file_name = f\"wgEncodeBroadHistone{cell_line}{mark}AlnRep{rep}.bam\"\n",
        "        output_name = f\"{mark}_rep{rep}.bam\"\n",
        "        url = base_url + file_name\n",
        "        try:\n",
        "            print(f\"Trying: {url}\")\n",
        "            !wget -q --show-progress {url} -O input_data/{output_name}\n",
        "        except:\n",
        "            print(f\"Not found: {file_name}\")"
      ]
    },
    {
      "cell_type": "code",
      "execution_count": 5,
      "metadata": {
        "colab": {
          "base_uri": "https://localhost:8080/"
        },
        "id": "dqttRiTN1l4o",
        "outputId": "07de328b-ce58-4a96-ad1e-3037524b5b06"
      },
      "outputs": [
        {
          "name": "stdout",
          "output_type": "stream",
          "text": [
            "Trying: http://hgdownload.cse.ucsc.edu/goldenPath/hg19/encodeDCC/wgEncodeBroadHistone/wgEncodeBroadHistoneDnd41H4k20me1AlnRep2.bam\n",
            "input_data/H4k20me1 100%[===================>] 797.02M  37.9MB/s    in 23s     \n",
            "Trying: http://hgdownload.cse.ucsc.edu/goldenPath/hg19/encodeDCC/wgEncodeBroadHistone/wgEncodeBroadHistoneDnd41CtcfAlnRep2.bam\n",
            "input_data/Ctcf_rep 100%[===================>] 963.28M  25.2MB/s    in 32s     \n",
            "Trying: http://hgdownload.cse.ucsc.edu/goldenPath/hg19/encodeDCC/wgEncodeBroadHistone/wgEncodeBroadHistoneDnd41Ezh239875AlnRep2.bam\n",
            "input_data/Ezh23987 100%[===================>]   1.31G  28.0MB/s    in 44s     \n",
            "Trying: http://hgdownload.cse.ucsc.edu/goldenPath/hg19/encodeDCC/wgEncodeBroadHistone/wgEncodeBroadHistoneDnd41H2azAlnRep2.bam\n",
            "input_data/H2az_rep 100%[===================>] 779.11M  32.3MB/s    in 28s     \n",
            "Trying: http://hgdownload.cse.ucsc.edu/goldenPath/hg19/encodeDCC/wgEncodeBroadHistone/wgEncodeBroadHistoneDnd41H3k04me1AlnRep2.bam\n",
            "input_data/H3k04me1 100%[===================>] 877.91M  31.1MB/s    in 26s     \n",
            "Trying: http://hgdownload.cse.ucsc.edu/goldenPath/hg19/encodeDCC/wgEncodeBroadHistone/wgEncodeBroadHistoneDnd41H3k04me2AlnRep2.bam\n",
            "input_data/H3k04me2 100%[===================>] 301.30M  30.3MB/s    in 9.3s    \n",
            "Trying: http://hgdownload.cse.ucsc.edu/goldenPath/hg19/encodeDCC/wgEncodeBroadHistone/wgEncodeBroadHistoneDnd41H3k04me3AlnRep2.bam\n",
            "input_data/H3k04me3 100%[===================>]   1004M  28.0MB/s    in 33s     \n",
            "Trying: http://hgdownload.cse.ucsc.edu/goldenPath/hg19/encodeDCC/wgEncodeBroadHistone/wgEncodeBroadHistoneDnd41H3k09acAlnRep2.bam\n",
            "input_data/H3k09ac_ 100%[===================>]   1.18G  38.4MB/s    in 33s     \n",
            "Trying: http://hgdownload.cse.ucsc.edu/goldenPath/hg19/encodeDCC/wgEncodeBroadHistone/wgEncodeBroadHistoneDnd41H3k27acAlnRep2.bam\n",
            "input_data/H3k27ac_ 100%[===================>]   1.78G  15.5MB/s    in 64s     \n",
            "Trying: http://hgdownload.cse.ucsc.edu/goldenPath/hg19/encodeDCC/wgEncodeBroadHistone/wgEncodeBroadHistoneDnd41H3k36me3AlnRep2.bam\n",
            "input_data/H3k36me3 100%[===================>] 862.20M  31.3MB/s    in 24s     \n"
          ]
        }
      ],
      "source": [
        "base_url = \"http://hgdownload.cse.ucsc.edu/goldenPath/hg19/encodeDCC/wgEncodeBroadHistone/\"\n",
        "cell_line = \"Dnd41\"\n",
        "\n",
        "for mark in marks:\n",
        "    for rep in range(2, 3):  # максимум 3 реплики встречается в списке\n",
        "        file_name = f\"wgEncodeBroadHistone{cell_line}{mark}AlnRep{rep}.bam\"\n",
        "        output_name = f\"{mark}_rep{rep}.bam\"\n",
        "        url = base_url + file_name\n",
        "        try:\n",
        "            print(f\"Trying: {url}\")\n",
        "            !wget -q --show-progress {url} -O input_data/{output_name}\n",
        "        except:\n",
        "            print(f\"Not found: {file_name}\")"
      ]
    },
    {
      "cell_type": "code",
      "execution_count": 6,
      "metadata": {
        "colab": {
          "base_uri": "https://localhost:8080/"
        },
        "id": "K24advtQ5Qgy",
        "outputId": "5eb12925-0b7c-4e4f-d3f3-b22f6c57eac9"
      },
      "outputs": [
        {
          "name": "stdout",
          "output_type": "stream",
          "text": [
            "✅ Файлы созданы:\n",
            "- cellmarkfiletable_rep1.txt: 11 строк\n",
            "- cellmarkfiletable_rep2.txt: 11 строк\n"
          ]
        }
      ],
      "source": [
        "import os\n",
        "\n",
        "bam_dir = \"input_data\"\n",
        "cell_type = \"Dnd41\"\n",
        "\n",
        "# Отображение от имени файла к метке\n",
        "mark_map = {\n",
        "    \"H4k20me1\": \"H4K20me1\",\n",
        "    \"Ctcf\": \"CTCF\",\n",
        "    \"Ezh239875\": \"EZH2\",\n",
        "    \"H2az\": \"H2AZ\",\n",
        "    \"H3k04me1\": \"H3K4me1\",\n",
        "    \"H3k04me2\": \"H3K4me2\",\n",
        "    \"H3k04me3\": \"H3K4me3\",\n",
        "    \"H3k09ac\": \"H3K9ac\",\n",
        "    \"H3k27ac\": \"H3K27ac\",\n",
        "    \"H3k36me3\": \"H3K36me3\",\n",
        "    \"H3k79me2\": \"H3K79me2\"\n",
        "}\n",
        "\n",
        "rep1_lines = []\n",
        "rep2_lines = []\n",
        "\n",
        "for file in sorted(os.listdir(bam_dir)):\n",
        "    if not file.endswith(\".bam\"):\n",
        "        continue\n",
        "    if file == \"control.bam\":\n",
        "        # Добавляем в оба списка (можно изменить)\n",
        "        rep1_lines.append(f\"{cell_type}\\tControl\\t{file}\")\n",
        "        rep2_lines.append(f\"{cell_type}\\tControl\\t{file}\")\n",
        "        continue\n",
        "\n",
        "    if \"_rep1.bam\" in file:\n",
        "        base = file.replace(\"_rep1.bam\", \"\")\n",
        "        if base in mark_map:\n",
        "            rep1_lines.append(f\"{cell_type}\\t{mark_map[base]}\\t{file}\")\n",
        "        else:\n",
        "            print(f\"⚠️ Неизвестная метка (rep1): {base}\")\n",
        "    elif \"_rep2.bam\" in file:\n",
        "        base = file.replace(\"_rep2.bam\", \"\")\n",
        "        if base in mark_map:\n",
        "            rep2_lines.append(f\"{cell_type}\\t{mark_map[base]}\\t{file}\")\n",
        "        else:\n",
        "            print(f\"⚠️ Неизвестная метка (rep2): {base}\")\n",
        "\n",
        "# Запись файлов\n",
        "with open(\"cellmarkfiletable_rep1.txt\", \"w\") as f1:\n",
        "    f1.write(\"\\n\".join(rep1_lines))\n",
        "\n",
        "with open(\"cellmarkfiletable_rep2.txt\", \"w\") as f2:\n",
        "    f2.write(\"\\n\".join(rep2_lines))\n",
        "\n",
        "print(\"✅ Файлы созданы:\")\n",
        "print(f\"- cellmarkfiletable_rep1.txt: {len(rep1_lines)} строк\")\n",
        "print(f\"- cellmarkfiletable_rep2.txt: {len(rep2_lines)} строк\")"
      ]
    },
    {
      "cell_type": "code",
      "execution_count": 7,
      "metadata": {
        "colab": {
          "base_uri": "https://localhost:8080/"
        },
        "id": "l5eIerME7lHT",
        "outputId": "3838b5bc-d9dc-47d3-bb8f-9f45d6089acf"
      },
      "outputs": [
        {
          "name": "stdout",
          "output_type": "stream",
          "text": [
            "Writing to file /content/binarizedData/rep1/Dnd41_chr1_binary.txt\n",
            "Writing to file /content/binarizedData/rep1/Dnd41_chr2_binary.txt\n",
            "Writing to file /content/binarizedData/rep1/Dnd41_chr3_binary.txt\n",
            "Writing to file /content/binarizedData/rep1/Dnd41_chr4_binary.txt\n",
            "Writing to file /content/binarizedData/rep1/Dnd41_chr5_binary.txt\n",
            "Writing to file /content/binarizedData/rep1/Dnd41_chr6_binary.txt\n",
            "Writing to file /content/binarizedData/rep1/Dnd41_chr7_binary.txt\n",
            "Writing to file /content/binarizedData/rep1/Dnd41_chrX_binary.txt\n",
            "Writing to file /content/binarizedData/rep1/Dnd41_chr8_binary.txt\n",
            "Writing to file /content/binarizedData/rep1/Dnd41_chr9_binary.txt\n",
            "Writing to file /content/binarizedData/rep1/Dnd41_chr10_binary.txt\n",
            "Writing to file /content/binarizedData/rep1/Dnd41_chr11_binary.txt\n",
            "Writing to file /content/binarizedData/rep1/Dnd41_chr12_binary.txt\n",
            "Writing to file /content/binarizedData/rep1/Dnd41_chr13_binary.txt\n",
            "Writing to file /content/binarizedData/rep1/Dnd41_chr14_binary.txt\n",
            "Writing to file /content/binarizedData/rep1/Dnd41_chr15_binary.txt\n",
            "Writing to file /content/binarizedData/rep1/Dnd41_chr16_binary.txt\n",
            "Writing to file /content/binarizedData/rep1/Dnd41_chr17_binary.txt\n",
            "Writing to file /content/binarizedData/rep1/Dnd41_chr18_binary.txt\n",
            "Writing to file /content/binarizedData/rep1/Dnd41_chr20_binary.txt\n",
            "Writing to file /content/binarizedData/rep1/Dnd41_chrY_binary.txt\n",
            "Writing to file /content/binarizedData/rep1/Dnd41_chr19_binary.txt\n",
            "Writing to file /content/binarizedData/rep1/Dnd41_chr22_binary.txt\n",
            "Writing to file /content/binarizedData/rep1/Dnd41_chr21_binary.txt\n",
            "Writing to file /content/binarizedData/rep1/Dnd41_chrM_binary.txt\n"
          ]
        }
      ],
      "source": [
        "!java -mx5000M -jar /content/ChromHMM/ChromHMM.jar BinarizeBam -b 200  /content/ChromHMM/CHROMSIZES/hg19.txt /content/input_data/ cellmarkfiletable_rep1.txt   /content/binarizedData/rep1"
      ]
    },
    {
      "cell_type": "code",
      "execution_count": 8,
      "metadata": {
        "colab": {
          "base_uri": "https://localhost:8080/"
        },
        "id": "64TlWTCZ8DrA",
        "outputId": "99d7d5f8-9662-48ff-f69e-cd583e1efe41"
      },
      "outputs": [
        {
          "name": "stdout",
          "output_type": "stream",
          "text": [
            "Writing to file /content/binarizedData/rep2/Dnd41_chr1_binary.txt\n",
            "Writing to file /content/binarizedData/rep2/Dnd41_chr2_binary.txt\n",
            "Writing to file /content/binarizedData/rep2/Dnd41_chr3_binary.txt\n",
            "Writing to file /content/binarizedData/rep2/Dnd41_chr4_binary.txt\n",
            "Writing to file /content/binarizedData/rep2/Dnd41_chr5_binary.txt\n",
            "Writing to file /content/binarizedData/rep2/Dnd41_chr6_binary.txt\n",
            "Writing to file /content/binarizedData/rep2/Dnd41_chr7_binary.txt\n",
            "Writing to file /content/binarizedData/rep2/Dnd41_chrX_binary.txt\n",
            "Writing to file /content/binarizedData/rep2/Dnd41_chr8_binary.txt\n",
            "Writing to file /content/binarizedData/rep2/Dnd41_chr9_binary.txt\n",
            "Writing to file /content/binarizedData/rep2/Dnd41_chr10_binary.txt\n",
            "Writing to file /content/binarizedData/rep2/Dnd41_chr11_binary.txt\n",
            "Writing to file /content/binarizedData/rep2/Dnd41_chr12_binary.txt\n",
            "Writing to file /content/binarizedData/rep2/Dnd41_chr13_binary.txt\n",
            "Writing to file /content/binarizedData/rep2/Dnd41_chr14_binary.txt\n",
            "Writing to file /content/binarizedData/rep2/Dnd41_chr15_binary.txt\n",
            "Writing to file /content/binarizedData/rep2/Dnd41_chr16_binary.txt\n",
            "Writing to file /content/binarizedData/rep2/Dnd41_chr17_binary.txt\n",
            "Writing to file /content/binarizedData/rep2/Dnd41_chr18_binary.txt\n",
            "Writing to file /content/binarizedData/rep2/Dnd41_chr20_binary.txt\n",
            "Writing to file /content/binarizedData/rep2/Dnd41_chrY_binary.txt\n",
            "Writing to file /content/binarizedData/rep2/Dnd41_chr19_binary.txt\n",
            "Writing to file /content/binarizedData/rep2/Dnd41_chr22_binary.txt\n",
            "Writing to file /content/binarizedData/rep2/Dnd41_chr21_binary.txt\n",
            "Writing to file /content/binarizedData/rep2/Dnd41_chrM_binary.txt\n"
          ]
        }
      ],
      "source": [
        "!java -mx5000M -jar /content/ChromHMM/ChromHMM.jar BinarizeBam -b 200  /content/ChromHMM/CHROMSIZES/hg19.txt /content/input_data/ cellmarkfiletable_rep2.txt   /content/binarizedData/rep2"
      ]
    },
    {
      "cell_type": "code",
      "execution_count": 10,
      "metadata": {
        "colab": {
          "base_uri": "https://localhost:8080/"
        },
        "id": "U9tzqnzDDNIF",
        "outputId": "395bb929-0b85-4c48-d0bc-6d14947fdba3"
      },
      "outputs": [
        {
          "name": "stdout",
          "output_type": "stream",
          "text": [
            "Writing to file /content/data/rep1/transitions_15.txt\n",
            "Writing to file /content/data/rep1/emissions_15.txt\n",
            "Writing to file /content/data/rep1/emissions_15.svg\n",
            "Writing to file /content/data/rep1/emissions_15.png\n",
            "Writing to file /content/data/rep1/transitions_15.png\n",
            "Writing to file /content/data/rep1/transitions_15.svg\n",
            "Writing to file /content/data/rep1/model_15.txt\n",
            " Iteration  Estimated Log Likelihood     Change    Total Time (secs)\n",
            "         1             -12885934.916          -                 35.5\n",
            "         2             -10987748.916 1898186.000                 60.3\n",
            "         3             -10578993.468 408755.448                 80.8\n",
            "         4             -10424578.986 154414.482                101.5\n",
            "         5             -10368224.649  56354.337                121.8\n",
            "         6             -10343907.695  24316.954                142.2\n",
            "         7             -10330620.872  13286.824                162.9\n",
            "         8             -10320453.154  10167.718                186.3\n",
            "         9             -10311369.261   9083.893                208.5\n",
            "        10             -10303811.454   7557.807                230.6\n",
            "        11             -10296434.280   7377.173                254.7\n",
            "        12             -10287731.832   8702.448                275.6\n",
            "        13             -10275907.850  11823.982                309.8\n",
            "        14             -10264539.983  11367.867                333.2\n",
            "        15             -10257468.255   7071.729                357.1\n",
            "        16             -10253323.436   4144.818                381.9\n",
            "        17             -10251089.200   2234.236                412.8\n",
            "        18             -10249853.006   1236.195                435.7\n",
            "        19             -10248980.465    872.541                459.0\n",
            "        20             -10248087.541    892.923                483.0\n",
            "        21             -10246778.578   1308.963                507.0\n",
            "        22             -10244515.280   2263.298                531.1\n",
            "        23             -10241136.001   3379.279                555.0\n",
            "        24             -10237619.225   3516.776                579.0\n",
            "        25             -10235010.979   2608.246                604.1\n",
            "        26             -10233326.281   1684.698                628.1\n",
            "        27             -10232166.872   1159.409                650.8\n",
            "        28             -10231243.236    923.636                674.7\n",
            "        29             -10230397.936    845.300                698.8\n",
            "        30             -10229541.130    856.806                722.6\n",
            "        31             -10228616.327    924.803                746.4\n",
            "        32             -10227595.407   1020.920                770.1\n",
            "        33             -10226481.939   1113.468                793.9\n",
            "        34             -10225312.151   1169.788                817.1\n",
            "        35             -10224134.162   1177.989                840.3\n",
            "        36             -10222979.190   1154.972                864.2\n",
            "        37             -10221849.615   1129.576                889.3\n",
            "        38             -10220727.844   1121.770                916.9\n",
            "        39             -10219591.338   1136.506                941.5\n",
            "        40             -10218423.802   1167.536                965.4\n",
            "        41             -10217219.923   1203.879                989.5\n",
            "        42             -10215979.012   1240.911               1013.4\n",
            "        43             -10214687.578   1291.434               1037.5\n",
            "        44             -10213344.278   1343.300               1061.8\n",
            "        45             -10211933.928   1410.350               1085.7\n",
            "        46             -10210444.981   1488.947               1108.9\n",
            "        47             -10208883.760   1561.221               1132.8\n",
            "        48             -10207254.989   1628.771               1158.0\n",
            "        49             -10205528.953   1726.036               1182.0\n",
            "        50             -10203573.822   1955.131               1207.8\n",
            "        51             -10201057.909   2515.914               1232.2\n",
            "        52             -10197729.490   3328.418               1256.2\n",
            "        53             -10194000.407   3729.083               1280.4\n",
            "        54             -10190362.351   3638.055               1304.6\n",
            "        55             -10186756.716   3605.635               1328.8\n",
            "        56             -10182877.632   3879.085               1352.4\n",
            "        57             -10178622.401   4255.231               1376.4\n",
            "        58             -10174143.391   4479.010               1400.6\n",
            "        59             -10169660.593   4482.798               1425.7\n",
            "        60             -10165296.254   4364.339               1452.1\n",
            "        61             -10161188.112   4108.142               1477.4\n",
            "        62             -10157427.005   3761.107               1502.8\n",
            "        63             -10154054.127   3372.877               1528.4\n",
            "        64             -10151093.555   2960.573               1554.0\n",
            "        65             -10148562.199   2531.356               1579.8\n",
            "        66             -10146459.027   2103.172               1605.4\n",
            "        67             -10144760.199   1698.828               1630.8\n",
            "        68             -10143423.668   1336.531               1656.4\n",
            "        69             -10142398.091   1025.577               1681.9\n",
            "        70             -10141629.519    768.572               1707.7\n",
            "        71             -10141065.756    563.762               1735.7\n",
            "        72             -10140659.952    405.804               1761.4\n",
            "        73             -10140372.628    287.324               1787.1\n",
            "        74             -10140172.032    200.595               1812.6\n",
            "        75             -10140033.519    138.514               1839.6\n",
            "        76             -10139938.577     94.942               1865.1\n",
            "        77             -10139873.745     64.831               1890.8\n",
            "        78             -10139829.502     44.243               1916.3\n",
            "        79             -10139799.250     30.252               1942.0\n",
            "        80             -10139778.481     20.769               1967.6\n",
            "        81             -10139764.143     14.339               1994.1\n",
            "        82             -10139754.174      9.968               2019.8\n",
            "        83             -10139747.188      6.986               2045.5\n",
            "        84             -10139742.250      4.939               2071.2\n",
            "        85             -10139738.725      3.525               2097.0\n",
            "        86             -10139736.184      2.541               2122.9\n",
            "        87             -10139734.333      1.851               2148.7\n",
            "        88             -10139732.970      1.362               2174.7\n",
            "        89             -10139731.956      1.014               2200.5\n",
            "        90             -10139731.194      0.763               2226.1\n",
            "        91             -10139730.613      0.580               2251.9\n",
            "        92             -10139730.167      0.446               2278.7\n",
            "        93             -10139729.820      0.347               2304.3\n",
            "        94             -10139729.548      0.273               2330.0\n",
            "        95             -10139729.332      0.216               2355.8\n",
            "        96             -10139729.152      0.179               2381.7\n",
            "        97             -10139729.013      0.139               2407.2\n",
            "        98             -10139728.900      0.114               2432.8\n",
            "        99             -10139728.806      0.093               2458.2\n",
            "       100             -10139728.729      0.078               2483.8\n",
            "       101             -10139728.663      0.065               2509.4\n",
            "       102             -10139728.608      0.055               2534.8\n",
            "       103             -10139728.562      0.046               2561.8\n",
            "       104             -10139728.522      0.040               2587.1\n",
            "       105             -10139728.488      0.034               2612.5\n",
            "       106             -10139728.458      0.030               2637.9\n",
            "       107             -10139728.433      0.025               2665.3\n",
            "       108             -10139728.411      0.022               2690.7\n",
            "       109             -10139728.392      0.019               2716.2\n",
            "       110             -10139728.374      0.017               2741.8\n",
            "       111             -10139728.360      0.015               2767.3\n",
            "       112             -10139728.346      0.013               2792.9\n",
            "       113             -10139728.335      0.011               2818.2\n",
            "       114             -10139728.325      0.010               2844.9\n",
            "       115             -10139728.316      0.009               2870.4\n",
            "       116             -10139728.308      0.008               2895.8\n",
            "       117             -10139728.301      0.007               2921.3\n",
            "       118             -10139728.295      0.006               2946.7\n",
            "       119             -10139728.289      0.006               2972.2\n",
            "       120             -10139728.284      0.005               2997.7\n",
            "       121             -10139728.280      0.004               3023.2\n",
            "       122             -10139728.276      0.004               3048.4\n",
            "       123             -10139728.272      0.003               3073.7\n",
            "       124             -10139728.269      0.003               3099.1\n",
            "       125             -10139728.266      0.003               3125.5\n",
            "       126             -10139728.264      0.002               3150.9\n",
            "       127             -10139728.262      0.002               3176.2\n",
            "       128             -10139728.260      0.002               3201.6\n",
            "       129             -10139728.258      0.002               3227.0\n",
            "       130             -10139728.256      0.002               3252.5\n",
            "       131             -10139728.255      0.001               3277.9\n",
            "       132             -10139728.254      0.001               3303.4\n",
            "       133             -10139728.252      0.001               3329.1\n",
            "       134             -10139728.252      0.001               3354.8\n",
            "Writing to file /content/data/rep1/POSTERIOR/Dnd41_15_chr10_posterior.txt\n",
            "Writing to file /content/data/rep1/Dnd41_15_segments.bed\n",
            "Writing to file /content/data/rep1/POSTERIOR/Dnd41_15_chr11_posterior.txt\n",
            "Writing to file /content/data/rep1/POSTERIOR/Dnd41_15_chr12_posterior.txt\n",
            "Writing to file /content/data/rep1/POSTERIOR/Dnd41_15_chr13_posterior.txt\n",
            "Writing to file /content/data/rep1/POSTERIOR/Dnd41_15_chr14_posterior.txt\n",
            "Writing to file /content/data/rep1/POSTERIOR/Dnd41_15_chr15_posterior.txt\n",
            "Writing to file /content/data/rep1/POSTERIOR/Dnd41_15_chr16_posterior.txt\n",
            "Writing to file /content/data/rep1/POSTERIOR/Dnd41_15_chr17_posterior.txt\n",
            "Writing to file /content/data/rep1/POSTERIOR/Dnd41_15_chr18_posterior.txt\n",
            "Writing to file /content/data/rep1/POSTERIOR/Dnd41_15_chr19_posterior.txt\n",
            "Writing to file /content/data/rep1/POSTERIOR/Dnd41_15_chr1_posterior.txt\n",
            "Writing to file /content/data/rep1/POSTERIOR/Dnd41_15_chr20_posterior.txt\n",
            "Writing to file /content/data/rep1/POSTERIOR/Dnd41_15_chr21_posterior.txt\n",
            "Writing to file /content/data/rep1/POSTERIOR/Dnd41_15_chr22_posterior.txt\n",
            "Writing to file /content/data/rep1/POSTERIOR/Dnd41_15_chr2_posterior.txt\n",
            "Writing to file /content/data/rep1/POSTERIOR/Dnd41_15_chr3_posterior.txt\n",
            "Writing to file /content/data/rep1/POSTERIOR/Dnd41_15_chr4_posterior.txt\n",
            "Writing to file /content/data/rep1/POSTERIOR/Dnd41_15_chr5_posterior.txt\n",
            "Writing to file /content/data/rep1/POSTERIOR/Dnd41_15_chr6_posterior.txt\n",
            "Writing to file /content/data/rep1/POSTERIOR/Dnd41_15_chr7_posterior.txt\n",
            "Writing to file /content/data/rep1/POSTERIOR/Dnd41_15_chr8_posterior.txt\n",
            "Writing to file /content/data/rep1/POSTERIOR/Dnd41_15_chr9_posterior.txt\n",
            "Writing to file /content/data/rep1/POSTERIOR/Dnd41_15_chrM_posterior.txt\n",
            "Writing to file /content/data/rep1/POSTERIOR/Dnd41_15_chrX_posterior.txt\n",
            "Writing to file /content/data/rep1/POSTERIOR/Dnd41_15_chrY_posterior.txt\n",
            "Writing to file /content/data/rep1/Dnd41_15_dense.bed\n",
            "Writing to file /content/data/rep1/Dnd41_15_expanded.bed\n",
            "Writing to file /content/data/rep1/Dnd41_15_overlap.txt\n",
            "Writing to file /content/data/rep1/Dnd41_15_overlap.png\n",
            "Writing to file /content/data/rep1/Dnd41_15_overlap.svg\n",
            "Writing to file /content/data/rep1/Dnd41_15_RefSeqTSS_neighborhood.txt\n",
            "Writing to file /content/data/rep1/Dnd41_15_RefSeqTSS_neighborhood.png\n",
            "Writing to file /content/data/rep1/Dnd41_15_RefSeqTSS_neighborhood.svg\n",
            "Writing to file /content/data/rep1/Dnd41_15_RefSeqTES_neighborhood.txt\n",
            "Writing to file /content/data/rep1/Dnd41_15_RefSeqTES_neighborhood.png\n",
            "Writing to file /content/data/rep1/Dnd41_15_RefSeqTES_neighborhood.svg\n",
            "Warning could not automatically open in a browser /content/data/rep1/webpage_15.html\n"
          ]
        }
      ],
      "source": [
        "!java -mx5000M -jar /content/ChromHMM/ChromHMM.jar LearnModel -b 200  -printposterior /content/binarizedData/rep1/ /content/data/rep1 15 hg19"
      ]
    },
    {
      "cell_type": "code",
      "execution_count": 11,
      "metadata": {
        "colab": {
          "base_uri": "https://localhost:8080/"
        },
        "id": "N6eNRKhWF8gG",
        "outputId": "8a4f7c21-9358-4739-db99-4b5f47405327"
      },
      "outputs": [
        {
          "name": "stdout",
          "output_type": "stream",
          "text": [
            "Writing to file /content/data/rep2/transitions_15.txt\n",
            "Writing to file /content/data/rep2/emissions_15.txt\n",
            "Writing to file /content/data/rep2/emissions_15.svg\n",
            "Writing to file /content/data/rep2/emissions_15.png\n",
            "Writing to file /content/data/rep2/transitions_15.png\n",
            "Writing to file /content/data/rep2/transitions_15.svg\n",
            "Writing to file /content/data/rep2/model_15.txt\n",
            " Iteration  Estimated Log Likelihood     Change    Total Time (secs)\n",
            "         1             -13092050.857          -                 29.6\n",
            "         2             -11274442.883 1817607.974                 61.1\n",
            "         3             -10904619.640 369823.243                 82.3\n",
            "         4             -10723013.355 181606.286                103.4\n",
            "         5             -10614718.062 108295.293                133.5\n",
            "         6             -10545080.021  69638.040                156.0\n",
            "         7             -10495240.650  49839.371                177.1\n",
            "         8             -10454924.840  40315.810                198.9\n",
            "         9             -10421292.109  33632.731                224.7\n",
            "        10             -10388073.553  33218.557                254.9\n",
            "        11             -10359061.116  29012.436                277.4\n",
            "        12             -10340701.905  18359.211                299.9\n",
            "        13             -10329037.653  11664.252                322.6\n",
            "        14             -10321063.002   7974.650                343.9\n",
            "        15             -10314987.421   6075.581                366.8\n",
            "        16             -10310179.342   4808.079                389.3\n",
            "        17             -10306428.002   3751.339                411.7\n",
            "        18             -10303571.314   2856.688                433.3\n",
            "        19             -10301427.657   2143.658                455.7\n",
            "        20             -10299794.281   1633.376                478.2\n",
            "        21             -10298512.521   1281.760                502.6\n",
            "        22             -10297466.107   1046.414                525.1\n",
            "        23             -10296583.742    882.364                546.5\n",
            "        24             -10295843.482    740.260                568.9\n",
            "        25             -10295246.251    597.231                591.3\n",
            "        26             -10294779.528    466.723                613.6\n",
            "        27             -10294416.851    362.677                635.1\n",
            "        28             -10294131.847    285.004                661.8\n",
            "        29             -10293903.860    227.987                685.4\n",
            "        30             -10293717.355    186.504                708.7\n",
            "        31             -10293560.062    157.294                732.1\n",
            "        32             -10293421.346    138.715                755.4\n",
            "        33             -10293290.857    130.489                779.7\n",
            "        34             -10293157.445    133.413                802.0\n",
            "        35             -10293009.609    147.835                825.3\n",
            "        36             -10292840.007    169.603                848.7\n",
            "        37             -10292652.347    187.660                872.1\n",
            "        38             -10292460.695    191.651                895.6\n",
            "        39             -10292277.133    183.563                919.3\n",
            "        40             -10292103.606    173.527                942.0\n",
            "        41             -10291934.909    168.697                965.7\n",
            "        42             -10291761.598    173.311                989.6\n",
            "        43             -10291567.979    193.619               1013.4\n",
            "        44             -10291323.590    244.390               1038.3\n",
            "        45             -10290950.263    373.327               1062.4\n",
            "        46             -10290129.967    820.296               1086.6\n",
            "        47             -10288109.050   2020.917               1110.7\n",
            "        48             -10285229.421   2879.630               1133.9\n",
            "        49             -10283003.635   2225.786               1157.7\n",
            "        50             -10281774.022   1229.613               1181.7\n",
            "        51             -10281064.486    709.536               1206.0\n",
            "        52             -10280607.640    456.846               1230.4\n",
            "        53             -10280305.662    301.978               1254.3\n",
            "        54             -10280103.131    202.531               1278.5\n",
            "        55             -10279959.097    144.035               1303.7\n",
            "        56             -10279846.454    112.643               1327.9\n",
            "        57             -10279750.080     96.374               1352.0\n",
            "        58             -10279662.156     87.924               1375.9\n",
            "        59             -10279579.590     82.566               1399.8\n",
            "        60             -10279503.279     76.311               1423.9\n",
            "        61             -10279435.446     67.833               1448.1\n",
            "        62             -10279377.201     58.245               1472.6\n",
            "        63             -10279328.242     48.959               1496.8\n",
            "        64             -10279287.650     40.591               1521.3\n",
            "        65             -10279254.301     33.350               1545.6\n",
            "        66             -10279226.988     27.312               1571.3\n",
            "        67             -10279204.578     22.410               1595.6\n",
            "        68             -10279186.093     18.485               1619.4\n",
            "        69             -10279170.747     15.346               1643.0\n",
            "        70             -10279157.926     12.821               1667.2\n",
            "        71             -10279147.153     10.773               1691.8\n",
            "        72             -10279138.060      9.093               1715.9\n",
            "        73             -10279130.357      7.703               1739.9\n",
            "        74             -10279123.812      6.545               1763.8\n",
            "        75             -10279118.240      5.573               1787.9\n",
            "        76             -10279113.488      4.751               1812.0\n",
            "        77             -10279109.428      4.060               1835.3\n",
            "        78             -10279105.954      3.474               1858.6\n",
            "        79             -10279102.977      2.977               1882.5\n",
            "        80             -10279100.422      2.555               1906.2\n",
            "        81             -10279098.225      2.196               1929.9\n",
            "        82             -10279096.335      1.891               1953.9\n",
            "        83             -10279094.705      1.630               1977.6\n",
            "        84             -10279093.298      1.407               2001.0\n",
            "        85             -10279092.081      1.217               2024.1\n",
            "        86             -10279091.027      1.053               2047.9\n",
            "        87             -10279090.114      0.913               2071.6\n",
            "        88             -10279089.321      0.793               2096.6\n",
            "        89             -10279088.631      0.690               2120.5\n",
            "        90             -10279088.031      0.601               2144.4\n",
            "        91             -10279087.507      0.524               2169.1\n",
            "        92             -10279087.049      0.458               2193.2\n",
            "        93             -10279086.649      0.400               2216.8\n",
            "        94             -10279086.298      0.351               2240.0\n",
            "        95             -10279085.991      0.308               2263.9\n",
            "        96             -10279085.721      0.270               2287.6\n",
            "        97             -10279085.483      0.238               2311.2\n",
            "        98             -10279085.274      0.209               2336.0\n",
            "        99             -10279085.089      0.185               2359.9\n",
            "       100             -10279084.926      0.163               2383.3\n",
            "       101             -10279084.782      0.144               2406.2\n",
            "       102             -10279084.654      0.128               2430.2\n",
            "       103             -10279084.541      0.113               2454.0\n",
            "       104             -10279084.440      0.100               2477.9\n",
            "       105             -10279084.351      0.090               2501.7\n",
            "       106             -10279084.270      0.081               2525.6\n",
            "       107             -10279084.199      0.071               2549.5\n",
            "       108             -10279084.136      0.063               2572.4\n",
            "       109             -10279084.080      0.056               2597.0\n",
            "       110             -10279084.029      0.051               2620.9\n",
            "       111             -10279083.984      0.045               2644.8\n",
            "       112             -10279083.944      0.041               2669.4\n",
            "       113             -10279083.907      0.036               2693.4\n",
            "       114             -10279083.874      0.033               2717.4\n",
            "       115             -10279083.845      0.029               2741.4\n",
            "       116             -10279083.818      0.027               2764.6\n",
            "       117             -10279083.794      0.024               2788.0\n",
            "       118             -10279083.773      0.022               2811.8\n",
            "       119             -10279083.753      0.020               2835.6\n",
            "       120             -10279083.736      0.018               2860.6\n",
            "       121             -10279083.720      0.016               2884.6\n",
            "       122             -10279083.706      0.014               2908.5\n",
            "       123             -10279083.692      0.013               2932.6\n",
            "       124             -10279083.680      0.012               2955.9\n",
            "       125             -10279083.670      0.011               2979.3\n",
            "       126             -10279083.660      0.010               3003.4\n",
            "       127             -10279083.651      0.009               3027.3\n",
            "       128             -10279083.643      0.008               3051.1\n",
            "       129             -10279083.635      0.008               3075.0\n",
            "       130             -10279083.628      0.007               3100.1\n",
            "       131             -10279083.622      0.006               3123.7\n",
            "       132             -10279083.617      0.006               3146.6\n",
            "       133             -10279083.611      0.005               3170.4\n",
            "       134             -10279083.607      0.005               3194.2\n",
            "       135             -10279083.602      0.004               3218.1\n",
            "       136             -10279083.598      0.004               3242.0\n",
            "       137             -10279083.595      0.004               3265.8\n",
            "       138             -10279083.591      0.003               3289.5\n",
            "       139             -10279083.588      0.003               3312.8\n",
            "       140             -10279083.585      0.003               3336.2\n",
            "       141             -10279083.583      0.003               3361.3\n",
            "       142             -10279083.580      0.002               3385.7\n",
            "       143             -10279083.578      0.002               3409.7\n",
            "       144             -10279083.576      0.002               3433.7\n",
            "       145             -10279083.574      0.002               3457.5\n",
            "       146             -10279083.572      0.002               3481.5\n",
            "       147             -10279083.571      0.001               3505.2\n",
            "       148             -10279083.569      0.002               3528.3\n",
            "       149             -10279083.568      0.001               3552.3\n",
            "       150             -10279083.567      0.001               3576.5\n",
            "       151             -10279083.565      0.001               3602.0\n",
            "       152             -10279083.564      0.001               3626.0\n",
            "       153             -10279083.563      0.001               3650.1\n",
            "Writing to file /content/data/rep2/POSTERIOR/Dnd41_15_chr10_posterior.txt\n",
            "Writing to file /content/data/rep2/Dnd41_15_segments.bed\n",
            "Writing to file /content/data/rep2/POSTERIOR/Dnd41_15_chr11_posterior.txt\n",
            "Writing to file /content/data/rep2/POSTERIOR/Dnd41_15_chr12_posterior.txt\n",
            "Writing to file /content/data/rep2/POSTERIOR/Dnd41_15_chr13_posterior.txt\n",
            "Writing to file /content/data/rep2/POSTERIOR/Dnd41_15_chr14_posterior.txt\n",
            "Writing to file /content/data/rep2/POSTERIOR/Dnd41_15_chr15_posterior.txt\n",
            "Writing to file /content/data/rep2/POSTERIOR/Dnd41_15_chr16_posterior.txt\n",
            "Writing to file /content/data/rep2/POSTERIOR/Dnd41_15_chr17_posterior.txt\n",
            "Writing to file /content/data/rep2/POSTERIOR/Dnd41_15_chr18_posterior.txt\n",
            "Writing to file /content/data/rep2/POSTERIOR/Dnd41_15_chr19_posterior.txt\n",
            "Writing to file /content/data/rep2/POSTERIOR/Dnd41_15_chr1_posterior.txt\n",
            "Writing to file /content/data/rep2/POSTERIOR/Dnd41_15_chr20_posterior.txt\n",
            "Writing to file /content/data/rep2/POSTERIOR/Dnd41_15_chr21_posterior.txt\n",
            "Writing to file /content/data/rep2/POSTERIOR/Dnd41_15_chr22_posterior.txt\n",
            "Writing to file /content/data/rep2/POSTERIOR/Dnd41_15_chr2_posterior.txt\n",
            "Writing to file /content/data/rep2/POSTERIOR/Dnd41_15_chr3_posterior.txt\n",
            "Writing to file /content/data/rep2/POSTERIOR/Dnd41_15_chr4_posterior.txt\n",
            "Writing to file /content/data/rep2/POSTERIOR/Dnd41_15_chr5_posterior.txt\n",
            "Writing to file /content/data/rep2/POSTERIOR/Dnd41_15_chr6_posterior.txt\n",
            "Writing to file /content/data/rep2/POSTERIOR/Dnd41_15_chr7_posterior.txt\n",
            "Writing to file /content/data/rep2/POSTERIOR/Dnd41_15_chr8_posterior.txt\n",
            "Writing to file /content/data/rep2/POSTERIOR/Dnd41_15_chr9_posterior.txt\n",
            "Writing to file /content/data/rep2/POSTERIOR/Dnd41_15_chrM_posterior.txt\n",
            "Writing to file /content/data/rep2/POSTERIOR/Dnd41_15_chrX_posterior.txt\n",
            "Writing to file /content/data/rep2/POSTERIOR/Dnd41_15_chrY_posterior.txt\n",
            "Writing to file /content/data/rep2/Dnd41_15_dense.bed\n",
            "Writing to file /content/data/rep2/Dnd41_15_expanded.bed\n",
            "Writing to file /content/data/rep2/Dnd41_15_overlap.txt\n",
            "Writing to file /content/data/rep2/Dnd41_15_overlap.png\n",
            "Writing to file /content/data/rep2/Dnd41_15_overlap.svg\n",
            "Writing to file /content/data/rep2/Dnd41_15_RefSeqTSS_neighborhood.txt\n",
            "Writing to file /content/data/rep2/Dnd41_15_RefSeqTSS_neighborhood.png\n",
            "Writing to file /content/data/rep2/Dnd41_15_RefSeqTSS_neighborhood.svg\n",
            "Writing to file /content/data/rep2/Dnd41_15_RefSeqTES_neighborhood.txt\n",
            "Writing to file /content/data/rep2/Dnd41_15_RefSeqTES_neighborhood.png\n",
            "Writing to file /content/data/rep2/Dnd41_15_RefSeqTES_neighborhood.svg\n",
            "Warning could not automatically open in a browser /content/data/rep2/webpage_15.html\n"
          ]
        }
      ],
      "source": [
        "!java -mx5000M -jar /content/ChromHMM/ChromHMM.jar LearnModel -b 200  -printposterior /content/binarizedData/rep2/ /content/data/rep2 15 hg19"
      ]
    },
    {
      "cell_type": "code",
      "execution_count": 14,
      "metadata": {
        "colab": {
          "base_uri": "https://localhost:8080/"
        },
        "id": "pGXwLh7QYb6j",
        "outputId": "130e22ca-451d-4b81-d07d-6098d7fcbf9f"
      },
      "outputs": [
        {
          "name": "stdout",
          "output_type": "stream",
          "text": [
            "Cloning into 'SAGAconf'...\n",
            "remote: Enumerating objects: 3293, done.\u001b[K\n",
            "remote: Counting objects: 100% (709/709), done.\u001b[K\n",
            "remote: Compressing objects: 100% (290/290), done.\u001b[K\n",
            "remote: Total 3293 (delta 466), reused 658 (delta 419), pack-reused 2584 (from 1)\u001b[K\n",
            "Receiving objects: 100% (3293/3293), 73.63 MiB | 29.68 MiB/s, done.\n",
            "Resolving deltas: 100% (1869/1869), done.\n"
          ]
        }
      ],
      "source": [
        "!git clone https://github.com/mehdiforoozandeh/SAGAconf.git"
      ]
    },
    {
      "cell_type": "code",
      "execution_count": 15,
      "metadata": {
        "colab": {
          "base_uri": "https://localhost:8080/"
        },
        "id": "ka0fCaNkoL9y",
        "outputId": "be514fcf-97fa-489d-fbb7-4fa4e5bdaf06"
      },
      "outputs": [
        {
          "name": "stdout",
          "output_type": "stream",
          "text": [
            "Found existing installation: numpy 2.0.2\n",
            "Uninstalling numpy-2.0.2:\n",
            "  Successfully uninstalled numpy-2.0.2\n",
            "Collecting numpy==1.26.4\n",
            "  Downloading numpy-1.26.4-cp311-cp311-manylinux_2_17_x86_64.manylinux2014_x86_64.whl.metadata (61 kB)\n",
            "\u001b[2K     \u001b[90m━━━━━━━━━━━━━━━━━━━━━━━━━━━━━━━━━━━━━━━━\u001b[0m \u001b[32m61.0/61.0 kB\u001b[0m \u001b[31m2.1 MB/s\u001b[0m eta \u001b[36m0:00:00\u001b[0m\n",
            "\u001b[?25hDownloading numpy-1.26.4-cp311-cp311-manylinux_2_17_x86_64.manylinux2014_x86_64.whl (18.3 MB)\n",
            "\u001b[2K   \u001b[90m━━━━━━━━━━━━━━━━━━━━━━━━━━━━━━━━━━━━━━━━\u001b[0m \u001b[32m18.3/18.3 MB\u001b[0m \u001b[31m100.3 MB/s\u001b[0m eta \u001b[36m0:00:00\u001b[0m\n",
            "\u001b[?25hInstalling collected packages: numpy\n",
            "\u001b[31mERROR: pip's dependency resolver does not currently take into account all the packages that are installed. This behaviour is the source of the following dependency conflicts.\n",
            "thinc 8.3.6 requires numpy<3.0.0,>=2.0.0, but you have numpy 1.26.4 which is incompatible.\u001b[0m\u001b[31m\n",
            "\u001b[0mSuccessfully installed numpy-1.26.4\n"
          ]
        }
      ],
      "source": [
        "!pip uninstall numpy -y\n",
        "!pip install numpy==1.26.4"
      ]
    },
    {
      "cell_type": "code",
      "execution_count": 14,
      "metadata": {
        "id": "MSsaRSXxoQOw"
      },
      "outputs": [],
      "source": [
        "!mkdir /content/SAGAconf_parser"
      ]
    },
    {
      "cell_type": "code",
      "execution_count": 15,
      "metadata": {
        "id": "MU-Pt6ghoei5"
      },
      "outputs": [],
      "source": [
        "!mkdir /content/SAGAconf_parser/rep1\n",
        "!mkdir /content/SAGAconf_parser/rep2"
      ]
    },
    {
      "cell_type": "code",
      "execution_count": 16,
      "metadata": {
        "id": "rmh0YwFhoYwY"
      },
      "outputs": [],
      "source": [
        "!python SAGAconf/SAGAconf_parser.py --out_format bed --saga chmm /content/data/rep1/POSTERIOR/ 200 /content/SAGAconf_parser/rep1\n"
      ]
    },
    {
      "cell_type": "code",
      "execution_count": 17,
      "metadata": {
        "id": "xIWV-kTPoshV"
      },
      "outputs": [],
      "source": [
        "!python SAGAconf/SAGAconf_parser.py --out_format bed --saga chmm /content/data/rep2/POSTERIOR/ 200 /content/SAGAconf_parser/rep2\n"
      ]
    },
    {
      "cell_type": "code",
      "execution_count": 16,
      "metadata": {
        "colab": {
          "base_uri": "https://localhost:8080/"
        },
        "id": "ZSPAQTNDrkDT",
        "outputId": "ed4590f5-2e11-4700-b1cc-fd4868e72cfe"
      },
      "outputs": [
        {
          "name": "stdout",
          "output_type": "stream",
          "text": [
            "Collecting pybedtools\n",
            "  Downloading pybedtools-0.12.0.tar.gz (12.6 MB)\n",
            "\u001b[2K     \u001b[90m━━━━━━━━━━━━━━━━━━━━━━━━━━━━━━━━━━━━━━━━\u001b[0m \u001b[32m12.6/12.6 MB\u001b[0m \u001b[31m87.9 MB/s\u001b[0m eta \u001b[36m0:00:00\u001b[0m\n",
            "\u001b[?25h  Installing build dependencies ... \u001b[?25l\u001b[?25hdone\n",
            "  Getting requirements to build wheel ... \u001b[?25l\u001b[?25hdone\n",
            "  Preparing metadata (pyproject.toml) ... \u001b[?25l\u001b[?25hdone\n",
            "Requirement already satisfied: numpy in /usr/local/lib/python3.11/dist-packages (from pybedtools) (1.26.4)\n",
            "Collecting pysam (from pybedtools)\n",
            "  Downloading pysam-0.23.0-cp311-cp311-manylinux_2_28_x86_64.whl.metadata (1.6 kB)\n",
            "Requirement already satisfied: pandas in /usr/local/lib/python3.11/dist-packages (from pybedtools) (2.2.2)\n",
            "Requirement already satisfied: python-dateutil>=2.8.2 in /usr/local/lib/python3.11/dist-packages (from pandas->pybedtools) (2.9.0.post0)\n",
            "Requirement already satisfied: pytz>=2020.1 in /usr/local/lib/python3.11/dist-packages (from pandas->pybedtools) (2025.2)\n",
            "Requirement already satisfied: tzdata>=2022.7 in /usr/local/lib/python3.11/dist-packages (from pandas->pybedtools) (2025.2)\n",
            "Requirement already satisfied: six>=1.5 in /usr/local/lib/python3.11/dist-packages (from python-dateutil>=2.8.2->pandas->pybedtools) (1.17.0)\n",
            "Downloading pysam-0.23.0-cp311-cp311-manylinux_2_28_x86_64.whl (26.0 MB)\n",
            "\u001b[2K   \u001b[90m━━━━━━━━━━━━━━━━━━━━━━━━━━━━━━━━━━━━━━━━\u001b[0m \u001b[32m26.0/26.0 MB\u001b[0m \u001b[31m68.8 MB/s\u001b[0m eta \u001b[36m0:00:00\u001b[0m\n",
            "\u001b[?25hBuilding wheels for collected packages: pybedtools\n",
            "  Building wheel for pybedtools (pyproject.toml) ... \u001b[?25l\u001b[?25hdone\n",
            "  Created wheel for pybedtools: filename=pybedtools-0.12.0-cp311-cp311-linux_x86_64.whl size=14261449 sha256=4fbe9824c90bc24c81cca2f2d757a8ffed81b8af0f155b9d606be7713058f93b\n",
            "  Stored in directory: /root/.cache/pip/wheels/95/62/57/e8c47c2a43884227b6644cf1d2dabf3162a0f40b9c1493c1f5\n",
            "Successfully built pybedtools\n",
            "Installing collected packages: pysam, pybedtools\n",
            "Successfully installed pybedtools-0.12.0 pysam-0.23.0\n"
          ]
        }
      ],
      "source": [
        "!pip install pybedtools"
      ]
    },
    {
      "cell_type": "code",
      "execution_count": 19,
      "metadata": {
        "id": "GT7UUtKpxHcW"
      },
      "outputs": [],
      "source": [
        "!mkdir /content/SAGAconf_bonus/"
      ]
    },
    {
      "cell_type": "code",
      "execution_count": 21,
      "metadata": {
        "colab": {
          "base_uri": "https://localhost:8080/"
        },
        "id": "7LstrhFLxtMV",
        "outputId": "30ab2dee-f600-45e9-97a9-a28a9b4d5f37"
      },
      "outputs": [
        {
          "name": "stdout",
          "output_type": "stream",
          "text": [
            "loading and intersecting\n",
            "^C\n"
          ]
        }
      ],
      "source": [
        "!python SAGAconf/SAGAconf.py -v /content/SAGAconf_parser/rep1/parsed_posterior.bed /content/SAGAconf_parser/rep2/parsed_posterior.bed /content/SAGAconf_bonus/\n"
      ]
    },
    {
      "cell_type": "code",
      "execution_count": 26,
      "metadata": {
        "colab": {
          "base_uri": "https://localhost:8080/"
        },
        "id": "a-u03Hc1x2uH",
        "outputId": "f9486c59-9ec0-4552-dcf5-928e9557315d"
      },
      "outputs": [
        {
          "name": "stdout",
          "output_type": "stream",
          "text": [
            "total 1433196\n",
            "drwxr-xr-x 2 root root       4096 Apr 17 12:44 .\n",
            "drwxr-xr-x 4 root root       4096 Apr 17 12:44 ..\n",
            "-rw-r--r-- 1 root root 1467576358 Apr 17 12:58 parsed_posterior.bed\n"
          ]
        }
      ],
      "source": [
        "!ls SAGAconf_bonus/base_replicate/ -al"
      ]
    },
    {
      "cell_type": "code",
      "execution_count": 1,
      "metadata": {
        "colab": {
          "base_uri": "https://localhost:8080/"
        },
        "id": "2Z7BuvoH2lFh",
        "outputId": "f14a8789-1042-465e-a758-acb8d5cd6f6c"
      },
      "outputs": [
        {
          "name": "stdout",
          "output_type": "stream",
          "text": [
            "Mounted at /content/drive\n"
          ]
        }
      ],
      "source": [
        "from google.colab import drive\n",
        "drive.mount('/content/drive')"
      ]
    },
    {
      "cell_type": "code",
      "execution_count": 28,
      "metadata": {
        "id": "IgmUQMEz4A5H"
      },
      "outputs": [],
      "source": [
        "!rm -rf /content/drive/MyDrive/ChromHMM_results/\n",
        "!rm -rf /content/drive/MyDrive/ChromHMM_results_binarizedData/\n",
        "!rm -rf /content/drive/MyDrive/ChromHMM_results_data/\n",
        "!rm -rf /content/drive/MyDrive/OUTPUTSAMPLE/\n",
        "!rm -rf /content/drive/MyDrive/SAGAconf_parser/"
      ]
    },
    {
      "cell_type": "code",
      "execution_count": 5,
      "metadata": {
        "colab": {
          "base_uri": "https://localhost:8080/"
        },
        "id": "0JkKBupa5Qw6",
        "outputId": "36cb8841-1167-4f13-dd45-8025508d2098"
      },
      "outputs": [
        {
          "name": "stdout",
          "output_type": "stream",
          "text": [
            "mkdir: cannot create directory ‘/content/drive/MyDrive/ChromHMM’: File exists\n"
          ]
        }
      ],
      "source": [
        "!mkdir /content/drive/MyDrive/ChromHMM"
      ]
    },
    {
      "cell_type": "code",
      "execution_count": 2,
      "metadata": {
        "colab": {
          "base_uri": "https://localhost:8080/"
        },
        "id": "Uu5fvFEL4hIj",
        "outputId": "b2cfb876-35cd-4d17-b71b-eb7a7e9cdeff"
      },
      "outputs": [
        {
          "name": "stdout",
          "output_type": "stream",
          "text": [
            "cp: cannot stat '/content/data': No such file or directory\n"
          ]
        }
      ],
      "source": [
        "!cp -r /content/data /content/drive/MyDrive/ChromHMM/data"
      ]
    },
    {
      "cell_type": "code",
      "execution_count": 3,
      "metadata": {
        "colab": {
          "base_uri": "https://localhost:8080/"
        },
        "id": "rYtGChbq4vhb",
        "outputId": "65ae9cb4-3640-4566-a884-4f0ae77650fe"
      },
      "outputs": [
        {
          "name": "stdout",
          "output_type": "stream",
          "text": [
            "cp: cannot stat '/content/binarizedData': No such file or directory\n"
          ]
        }
      ],
      "source": [
        "!cp -r /content/binarizedData /content/drive/MyDrive/ChromHMM/binarizedData"
      ]
    },
    {
      "cell_type": "code",
      "execution_count": 4,
      "metadata": {
        "colab": {
          "base_uri": "https://localhost:8080/"
        },
        "id": "jnAB273R4_Qt",
        "outputId": "c896db49-ff14-40f9-f55e-936d56425fb9"
      },
      "outputs": [
        {
          "name": "stdout",
          "output_type": "stream",
          "text": [
            "cp: cannot stat '/content/SAGAconf_bonus': No such file or directory\n"
          ]
        }
      ],
      "source": [
        "!cp -r /content/SAGAconf_bonus /content/drive/MyDrive/ChromHMM/SAGAconf_bonus"
      ]
    },
    {
      "cell_type": "code",
      "execution_count": 6,
      "metadata": {
        "id": "gl3dZADn5clw"
      },
      "outputs": [],
      "source": [
        "!cp -r /content/drive/MyDrive/ChromHMM/SAGAconf_bonus /content/SAGAconf_bonus"
      ]
    },
    {
      "cell_type": "code",
      "execution_count": 7,
      "metadata": {
        "id": "U5iAYHlF8lbR"
      },
      "outputs": [],
      "source": [
        "!mkdir /content/SAGAconf_parser\n",
        "!mkdir /content/SAGAconf_parser/rep1\n",
        "!mkdir /content/SAGAconf_parser/rep2"
      ]
    },
    {
      "cell_type": "code",
      "execution_count": 8,
      "metadata": {
        "id": "i07FYEfP8t9z"
      },
      "outputs": [],
      "source": [
        "!cp /content/SAGAconf_bonus/base_replicate/parsed_posterior.bed /content/SAGAconf_parser/rep1"
      ]
    },
    {
      "cell_type": "code",
      "execution_count": 9,
      "metadata": {
        "id": "ZV_QUAzZ9IKL"
      },
      "outputs": [],
      "source": [
        "!cp /content/SAGAconf_bonus/verification_replicate/parsed_posterior.bed /content/SAGAconf_parser/rep2"
      ]
    },
    {
      "cell_type": "code",
      "execution_count": 21,
      "metadata": {
        "colab": {
          "base_uri": "https://localhost:8080/"
        },
        "id": "VODBLRQNAVnG",
        "outputId": "33e98770-ed77-4aae-99b0-514f159c50fe"
      },
      "outputs": [
        {
          "name": "stdout",
          "output_type": "stream",
          "text": [
            "Collecting CairoSVG==2.5.2 (from -r SAGAconf/min_req.txt (line 1))\n",
            "  Downloading CairoSVG-2.5.2-py3-none-any.whl.metadata (2.7 kB)\n",
            "Collecting matplotlib==3.4.1 (from -r SAGAconf/min_req.txt (line 2))\n",
            "  Downloading matplotlib-3.4.1.tar.gz (37.3 MB)\n",
            "\u001b[2K     \u001b[90m━━━━━━━━━━━━━━━━━━━━━━━━━━━━━━━━━━━━━━━━\u001b[0m \u001b[32m37.3/37.3 MB\u001b[0m \u001b[31m38.4 MB/s\u001b[0m eta \u001b[36m0:00:00\u001b[0m\n",
            "\u001b[?25h  Installing build dependencies ... \u001b[?25l\u001b[?25hdone\n",
            "  Getting requirements to build wheel ... \u001b[?25l\u001b[?25hdone\n",
            "  Installing backend dependencies ... \u001b[?25l\u001b[?25hdone\n",
            "  Preparing metadata (pyproject.toml) ... \u001b[?25l\u001b[?25hdone\n",
            "Collecting numpy==1.24.2 (from -r SAGAconf/min_req.txt (line 3))\n",
            "  Downloading numpy-1.24.2-cp311-cp311-manylinux_2_17_x86_64.manylinux2014_x86_64.whl.metadata (5.6 kB)\n",
            "Collecting pandas==2.0.0 (from -r SAGAconf/min_req.txt (line 4))\n",
            "  Downloading pandas-2.0.0-cp311-cp311-manylinux_2_17_x86_64.manylinux2014_x86_64.whl.metadata (18 kB)\n",
            "\u001b[31mERROR: Cannot install pandas==1.3.3 and pandas==2.0.0 because these package versions have conflicting dependencies.\u001b[0m\u001b[31m\n",
            "\u001b[0m\n",
            "The conflict is caused by:\n",
            "    The user requested pandas==2.0.0\n",
            "    The user requested pandas==1.3.3\n",
            "\n",
            "To fix this you could try to:\n",
            "1. loosen the range of package versions you've specified\n",
            "2. remove package versions to allow pip to attempt to solve the dependency conflict\n",
            "\n",
            "\u001b[31mERROR: ResolutionImpossible: for help visit https://pip.pypa.io/en/latest/topics/dependency-resolution/#dealing-with-dependency-conflicts\u001b[0m\u001b[31m\n",
            "\u001b[0m"
          ]
        }
      ],
      "source": [
        "!pip install -r SAGAconf/min_req.txt"
      ]
    },
    {
      "cell_type": "code",
      "execution_count": 23,
      "metadata": {
        "colab": {
          "base_uri": "https://localhost:8080/"
        },
        "id": "S2cZzx6nAmVE",
        "outputId": "ce55d56e-287e-4819-a2ec-eee0d7e36df3"
      },
      "outputs": [
        {
          "name": "stdout",
          "output_type": "stream",
          "text": [
            "Collecting statsmodels\n",
            "  Downloading statsmodels-0.14.4-cp311-cp311-manylinux_2_17_x86_64.manylinux2014_x86_64.whl.metadata (9.2 kB)\n",
            "Requirement already satisfied: numpy<3,>=1.22.3 in /usr/local/lib/python3.11/dist-packages (from statsmodels) (1.26.4)\n",
            "Requirement already satisfied: scipy!=1.9.2,>=1.8 in /usr/local/lib/python3.11/dist-packages (from statsmodels) (1.14.1)\n",
            "Requirement already satisfied: pandas!=2.1.0,>=1.4 in /usr/local/lib/python3.11/dist-packages (from statsmodels) (2.2.2)\n",
            "Collecting patsy>=0.5.6 (from statsmodels)\n",
            "  Downloading patsy-1.0.1-py2.py3-none-any.whl.metadata (3.3 kB)\n",
            "Requirement already satisfied: packaging>=21.3 in /usr/local/lib/python3.11/dist-packages (from statsmodels) (24.2)\n",
            "Requirement already satisfied: python-dateutil>=2.8.2 in /usr/local/lib/python3.11/dist-packages (from pandas!=2.1.0,>=1.4->statsmodels) (2.9.0.post0)\n",
            "Requirement already satisfied: pytz>=2020.1 in /usr/local/lib/python3.11/dist-packages (from pandas!=2.1.0,>=1.4->statsmodels) (2025.2)\n",
            "Requirement already satisfied: tzdata>=2022.7 in /usr/local/lib/python3.11/dist-packages (from pandas!=2.1.0,>=1.4->statsmodels) (2025.2)\n",
            "Requirement already satisfied: six>=1.5 in /usr/local/lib/python3.11/dist-packages (from python-dateutil>=2.8.2->pandas!=2.1.0,>=1.4->statsmodels) (1.17.0)\n",
            "Downloading statsmodels-0.14.4-cp311-cp311-manylinux_2_17_x86_64.manylinux2014_x86_64.whl (10.8 MB)\n",
            "\u001b[2K   \u001b[90m━━━━━━━━━━━━━━━━━━━━━━━━━━━━━━━━━━━━━━━━\u001b[0m \u001b[32m10.8/10.8 MB\u001b[0m \u001b[31m99.9 MB/s\u001b[0m eta \u001b[36m0:00:00\u001b[0m\n",
            "\u001b[?25hDownloading patsy-1.0.1-py2.py3-none-any.whl (232 kB)\n",
            "\u001b[2K   \u001b[90m━━━━━━━━━━━━━━━━━━━━━━━━━━━━━━━━━━━━━━━━\u001b[0m \u001b[32m232.9/232.9 kB\u001b[0m \u001b[31m20.5 MB/s\u001b[0m eta \u001b[36m0:00:00\u001b[0m\n",
            "\u001b[?25hInstalling collected packages: patsy, statsmodels\n",
            "Successfully installed patsy-1.0.1 statsmodels-0.14.4\n"
          ]
        }
      ],
      "source": [
        "!pip install statsmodels"
      ]
    },
    {
      "cell_type": "code",
      "execution_count": null,
      "metadata": {
        "colab": {
          "base_uri": "https://localhost:8080/"
        },
        "id": "-A9NZzo-8SKf",
        "outputId": "694bed78-0e42-498a-92b2-0307aec604f6"
      },
      "outputs": [
        {
          "name": "stdout",
          "output_type": "stream",
          "text": [
            "loading and intersecting\n",
            "the shapes of the input matrices are: (15478457, 18), (15478457, 18)\n",
            "R2 score for posterior0: 0.7107187780083857\n",
            "R2 score for posterior1: 0.9851670014277297\n",
            "R2 score for posterior2: 0.8659232547989729\n",
            "R2 score for posterior3: 0.8981776475612477\n",
            "R2 score for posterior4: 0.6668242747813078\n",
            "R2 score for posterior5: 0.5063036677717971\n",
            "R2 score for posterior6: 0.7320473032830169\n",
            "R2 score for posterior7: 0.4037777816335153\n",
            "R2 score for posterior8: 0.27831635881528194\n",
            "R2 score for posterior9: 0.3923596352735008\n",
            "R2 score for posterior10: 0.4815820529393977\n",
            "R2 score for posterior11: 0.8707269691034378\n",
            "R2 score for posterior12: 0.47956785274195857\n",
            "R2 score for posterior13: 0.6385662571642647\n",
            "R2 score for posterior14: 0.33571545607529685\n",
            "\n",
            "y\n"
          ]
        }
      ],
      "source": [
        "!python SAGAconf/SAGAconf.py /content/SAGAconf_parser/rep1/parsed_posterior.bed /content/SAGAconf_parser/rep2/parsed_posterior.bed /content/SAGAconf_bonus/"
      ]
    },
    {
      "cell_type": "code",
      "execution_count": 12,
      "metadata": {
        "colab": {
          "base_uri": "https://localhost:8080/"
        },
        "id": "CjrJrjf49VFC",
        "outputId": "bfd46da7-5f00-44ab-8194-8cf4f2ad47c0"
      },
      "outputs": [
        {
          "name": "stdout",
          "output_type": "stream",
          "text": [
            "chr\tstart\tend\tposterior1\tposterior2\tposterior3\tposterior4\tposterior5\tposterior6\tposterior7\tposterior8\tposterior9\tposterior10\tposterior11\tposterior12\tposterior13\tposterior14\tposterior15\n",
            "chr1\t0\t200\t0.0\t1.0\t0.0\t0.0\t0.0\t0.0\t0.0\t0.0\t0.0\t0.0\t0.0\t0.0\t0.0\t0.0\t0.0\n",
            "chr1\t200\t400\t0.0\t0.9995\t0.0005\t1e-04\t0.0\t0.0\t0.0\t0.0\t0.0\t0.0\t0.0\t0.0\t0.0\t0.0\t0.0\n",
            "chr1\t400\t600\t0.0\t0.9989\t0.001\t1e-04\t0.0\t0.0\t0.0\t0.0\t0.0\t0.0\t0.0\t0.0\t0.0\t0.0\t0.0\n",
            "chr1\t600\t800\t0.0\t0.9983\t0.0015\t0.0002\t0.0\t0.0\t0.0\t0.0\t0.0\t0.0\t0.0\t0.0\t0.0\t0.0\t0.0\n",
            "chr1\t800\t1000\t0.0\t0.9976\t0.0021\t0.0003\t0.0\t0.0\t0.0\t0.0\t0.0\t0.0\t0.0\t0.0\t0.0\t0.0\t0.0\n",
            "chr1\t1000\t1200\t0.0\t0.9969\t0.0027\t0.0005\t0.0\t0.0\t0.0\t0.0\t0.0\t0.0\t0.0\t0.0\t0.0\t0.0\t0.0\n",
            "chr1\t1200\t1400\t0.0\t0.9961\t0.0033\t0.0006\t0.0\t0.0\t0.0\t0.0\t0.0\t0.0\t0.0\t0.0\t0.0\t0.0\t0.0\n",
            "chr1\t1400\t1600\t0.0\t0.9952\t0.004\t0.0007\t0.0\t0.0\t0.0\t0.0\t0.0\t0.0\t0.0\t0.0\t0.0\t0.0\t0.0\n",
            "chr1\t1600\t1800\t0.0\t0.9943\t0.0048\t0.0009\t0.0\t0.0\t0.0\t0.0\t0.0\t0.0\t0.0\t0.0\t0.0\t0.0\t0.0\n"
          ]
        }
      ],
      "source": [
        "!head /content/SAGAconf_parser/rep1/parsed_posterior.bed"
      ]
    },
    {
      "cell_type": "code",
      "execution_count": 13,
      "metadata": {
        "colab": {
          "base_uri": "https://localhost:8080/"
        },
        "id": "nffbdlQy-GuU",
        "outputId": "8bc17791-7d9d-4b79-a7dc-d9c32a4b5084"
      },
      "outputs": [
        {
          "name": "stdout",
          "output_type": "stream",
          "text": [
            "chr\tstart\tend\tposterior1\tposterior2\tposterior3\tposterior4\tposterior5\tposterior6\tposterior7\tposterior8\tposterior9\tposterior10\tposterior11\tposterior12\tposterior13\tposterior14\tposterior15\n",
            "chr1\t0\t200\t0.0\t0.0\t0.0\t0.0\t0.0\t0.0\t0.0\t0.0\t0.0\t1.0\t0.0\t0.0\t0.0\t0.0\t0.0\n",
            "chr1\t200\t400\t0.0\t0.0\t0.0\t0.0\t0.0\t0.0\t0.0\t0.0\t0.0005\t0.9995\t0.0\t0.0\t0.0\t0.0\t1e-04\n",
            "chr1\t400\t600\t0.0\t0.0\t0.0\t0.0\t0.0\t0.0\t0.0\t0.0\t0.0005\t0.9993\t0.0\t0.0\t0.0\t0.0\t0.0002\n",
            "chr1\t600\t800\t0.0\t0.0\t0.0\t0.0\t0.0\t0.0\t0.0\t0.0\t0.0005\t0.9992\t0.0\t0.0\t0.0\t0.0\t0.0002\n",
            "chr1\t800\t1000\t0.0\t0.0\t0.0\t0.0\t0.0\t0.0\t0.0\t0.0\t0.0005\t0.9992\t0.0\t0.0\t0.0\t0.0\t0.0003\n",
            "chr1\t1000\t1200\t0.0\t0.0\t0.0\t0.0\t0.0\t0.0\t0.0\t0.0\t0.0005\t0.9991\t0.0\t0.0\t0.0\t0.0\t0.0003\n",
            "chr1\t1200\t1400\t0.0\t0.0\t0.0\t0.0\t0.0\t0.0\t0.0\t0.0\t0.0005\t0.9991\t0.0\t0.0\t0.0\t0.0\t0.0003\n",
            "chr1\t1400\t1600\t0.0\t0.0\t0.0\t0.0\t0.0\t0.0\t0.0\t0.0\t0.0005\t0.999\t0.0\t0.0\t0.0\t0.0\t0.0004\n",
            "chr1\t1600\t1800\t0.0\t0.0\t0.0\t0.0\t0.0\t0.0\t0.0\t0.0\t0.0005\t0.999\t0.0\t0.0\t0.0\t0.0\t0.0004\n"
          ]
        }
      ],
      "source": [
        "!head /content/SAGAconf_parser/rep2/parsed_posterior.bed"
      ]
    },
    {
      "cell_type": "code",
      "execution_count": 12,
      "metadata": {
        "id": "3Ysnntpd-JXe"
      },
      "outputs": [],
      "source": [
        "import os\n",
        "\n",
        "states = ['Active_Promoter',\n",
        "          'Weak_Promoter',\n",
        "          'Poised_Promoter',\n",
        "          'Strong_Enhancer',\n",
        "          'Strong_Enhancer',\n",
        "          'Weak_Enhancer',\n",
        "          'Weak_Enhancer',\n",
        "          'Insulator',\n",
        "          'Transcriptional_Transition',\n",
        "          'Transcriptional_Elongation',\n",
        "          'Weak_Transcribed',\n",
        "          'Polycomb_Repressed',\n",
        "          'Heterochromatin',\n",
        "          'Repetitive_CNV',\n",
        "          'Repetitive_CNV']\n",
        "\n",
        "with open(f'expanded.bed', 'r') as old_f:\n",
        "    with open(f'expanded_new.bed', 'w+') as new_f:\n",
        "        lines = old_f.readlines()\n",
        "\n",
        "        new_f.write(lines[0])\n",
        "        new_f.write(lines[1])\n",
        "\n",
        "        for line in lines[2:]:\n",
        "            l = line.split('\\t')\n",
        "            l[3] = states[int(l[3]) - 1] + '_' + l[3]\n",
        "            new_f.write('\\t'.join(l))"
      ]
    },
    {
      "cell_type": "code",
      "execution_count": null,
      "metadata": {},
      "outputs": [],
      "source": []
    },
    {
      "cell_type": "code",
      "execution_count": null,
      "metadata": {},
      "outputs": [],
      "source": []
    }
  ],
  "metadata": {
    "accelerator": "TPU",
    "colab": {
      "gpuType": "V28",
      "provenance": []
    },
    "kernelspec": {
      "display_name": "Python 3",
      "name": "python3"
    },
    "language_info": {
      "codemirror_mode": {
        "name": "ipython",
        "version": 3
      },
      "file_extension": ".py",
      "mimetype": "text/x-python",
      "name": "python",
      "nbconvert_exporter": "python",
      "pygments_lexer": "ipython3",
      "version": "3.11.0"
    }
  },
  "nbformat": 4,
  "nbformat_minor": 0
}
